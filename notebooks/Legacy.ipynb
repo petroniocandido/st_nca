{
 "cells": [
  {
   "cell_type": "markdown",
   "metadata": {
    "id": "w9lC5_9Nj5TR"
   },
   "source": [
    "# Spatio-Temporal Traffic Forecasting with Neural Graph Cellular Automata\n",
    "Petrônio C.  L. Silva  <span itemscope itemtype=\"https://schema.org/Person\"><a itemprop=\"sameAs\" content=\"https://orcid.org/0000-0002-1202-2552\" href=\"https://orcid.org/0000-0002-1202-2552\" target=\"orcid.widget\" rel=\"noopener noreferrer\" style=\"vertical-align:top;\"><img src=\"https://orcid.org/sites/default/files/images/orcid_16x16.png\" style=\"width:1em;margin-right:.5em;\" alt=\"ORCID iD icon\"></a></span>, Omid Orang  <span itemscope itemtype=\"https://schema.org/Person\"><a itemprop=\"sameAs\" content=\"https://orcid.org/0000-0002-4077-3775\" href=\"https://orcid.org/0000-0002-4077-3775\" target=\"orcid.widget\" rel=\"noopener noreferrer\" style=\"vertical-align:top;\"><img src=\"https://orcid.org/sites/default/files/images/orcid_16x16.png\" style=\"width:1em;margin-right:.5em;\" alt=\"ORCID iD icon\"></a></span>, Lucas Astore, Frederico G. Guimarães <span itemscope itemtype=\"https://schema.org/Person\"><a itemprop=\"sameAs\" content=\"https://orcid.org/0000-0001-9238-8839\" href=\"https://orcid.org/0000-0001-9238-8839\" target=\"orcid.widget\" rel=\"noopener noreferrer\" style=\"vertical-align:top;\"><img src=\"https://orcid.org/sites/default/files/images/orcid_16x16.png\" style=\"width:1em;margin-right:.5em;\" alt=\"ORCID iD icon\"></a></span>\n",
    "\n",
    "In case you have any questions, do not hesitate in contact us using the following e-mail: petronio.candido@ifnmg.edu.br\n"
   ]
  },
  {
   "cell_type": "markdown",
   "metadata": {
    "id": "Q7fAHH9MOdwF"
   },
   "source": [
    "## Imports"
   ]
  },
  {
   "cell_type": "code",
   "execution_count": 37,
   "metadata": {
    "id": "0xEnrvA5OdwI"
   },
   "outputs": [],
   "source": [
    "from datetime import datetime, timezone, timedelta\n",
    "import numpy as np\n",
    "import pandas as pd\n",
    "import matplotlib.pyplot as plt\n",
    "import networkx as nx\n",
    "\n",
    "from sklearn.preprocessing import StandardScaler\n",
    "from sklearn.manifold import SpectralEmbedding\n",
    "\n",
    "import torch\n",
    "from torch import nn, optim\n",
    "from torch.nn import functional as F\n",
    "from torch.utils.data import Dataset, DataLoader\n",
    "\n",
    "from tensordict import TensorDict"
   ]
  },
  {
   "cell_type": "code",
   "execution_count": null,
   "metadata": {},
   "outputs": [],
   "source": [
    "!pip install --upgrade pip"
   ]
  },
  {
   "cell_type": "code",
   "execution_count": null,
   "metadata": {
    "colab": {
     "base_uri": "https://localhost:8080/"
    },
    "id": "A66vuoyYa8jV",
    "outputId": "bf6d46ff-2a02-4737-e767-c7c471da3b04"
   },
   "outputs": [],
   "source": [
    "!pip install torchmetrics\n",
    "!pip install tensordict-nightly"
   ]
  },
  {
   "cell_type": "code",
   "execution_count": null,
   "metadata": {
    "colab": {
     "base_uri": "https://localhost:8080/"
    },
    "id": "LxF10ZfzOjUL",
    "outputId": "e651433b-f198-4561-fcfd-776b35bd84d3"
   },
   "outputs": [],
   "source": [
    "from google.colab import drive\n",
    "\n",
    "drive.mount('/content/gdrive')"
   ]
  },
  {
   "cell_type": "markdown",
   "metadata": {},
   "source": [
    "## Embeddings"
   ]
  },
  {
   "cell_type": "markdown",
   "metadata": {},
   "source": [
    "### Time Embedding\n",
    "\n",
    "Neither DateTime or Timestamps exists in Torch tensor. So we will keep it in pandas datetimes."
   ]
  },
  {
   "cell_type": "code",
   "execution_count": 28,
   "metadata": {},
   "outputs": [],
   "source": [
    "def datetime_to_str(dt):\n",
    "  return dt.strftime(\"%Y%m%d%H%M%S\")\n",
    "\n",
    "def to_pandas_datetime(values):\n",
    "  return pd.to_datetime(values, format='%m/%d/%Y %H:%M')\n",
    "\n",
    "def from_np_to_datetime(dt):\n",
    "  return datetime(dt.year, dt.month, dt.day, dt.hour, dt.minute)\n",
    "\n",
    "def from_datetime_to_np(date : datetime):\n",
    "  return np.datetime64(date.astimezone(timezone.utc))\n",
    "\n",
    "class TemporalEmbedding(nn.Module):\n",
    "  def __init__(self, dates, **kwargs):\n",
    "    super().__init__()\n",
    "    self.device = kwargs.get('device','cpu')\n",
    "    self.dtype = kwargs.get('dtype',torch.float32)\n",
    "    self.pi2 = torch.tensor([2 * torch.pi], dtype=self.dtype, device=self.device)\n",
    "    self.week_minutes_rads = torch.tensor([(7 * 1440) * self.pi2], dtype=self.dtype, device=self.device)\n",
    "    tmp_dict = {}\n",
    "    self.length = 0\n",
    "    for date in dates:\n",
    "      tmp_dict[datetime_to_str(date)] = self.forward(date)\n",
    "      self.length += 1 \n",
    "    self.embeddings : TensorDict = TensorDict(tmp_dict) \n",
    "\n",
    "  def week_embedding(self, date):\n",
    "      day_of_week = date.isocalendar()[2]  # Day of week (1: Monday, 7: Sunday)\n",
    "      num = torch.tensor([day_of_week * 1440 + date.hour * 60 + date.minute], dtype=self.dtype, device=self.device)\n",
    "      return torch.sin(num / self.week_minutes_rads)\n",
    "\n",
    "  def minute_embedding(self, date):\n",
    "    minute_of_day = torch.tensor([(date.hour * 60 + date.minute)/ 1440], dtype=self.dtype, device=self.device)\n",
    "    return torch.sin(minute_of_day * self.pi2)\n",
    "  \n",
    "  def forward(self, dt):\n",
    "     date = from_np_to_datetime(dt)\n",
    "     we = self.week_embedding(date)\n",
    "     me = self.minute_embedding(date)\n",
    "     return torch.tensor([we, me], dtype=self.dtype, device=self.device)\n",
    "  \n",
    "  def __getitem__(self, date):\n",
    "    if isinstance(date, np.datetime64):\n",
    "      date =  from_np_to_datetime(date)\n",
    "      return self.embeddings[datetime_to_str(date)]\n",
    "    elif isinstance(date, datetime):\n",
    "      return self.embeddings[datetime_to_str(date)]\n",
    "    elif isinstance(date, int):\n",
    "      return self.embeddings[date]\n",
    "    else:\n",
    "      raise Exception(\"Unknown index type\")\n",
    "    \n",
    "  \n",
    "  def all(self):\n",
    "    ret = torch.empty(self.length, 2,\n",
    "                        dtype=self.dtype, device=self.device)\n",
    "    for it,emb in enumerate(self.embeddings.values(sort=True)):\n",
    "      ret[it, :] = emb\n",
    "    return ret\n",
    "  \n",
    "  def to(self, *args, **kwargs):\n",
    "    self = super().to(*args, **kwargs)\n",
    "    if isinstance(args[0], str):\n",
    "      self.device = args[0]\n",
    "    else:\n",
    "      self.dtype = args[0]\n",
    "    self.pi2 = self.pi2.to(*args, **kwargs)\n",
    "    self.week_minutes_rads = self.week_minutes_rads.to(*args, **kwargs)\n",
    "    return self"
   ]
  },
  {
   "cell_type": "code",
   "execution_count": 29,
   "metadata": {},
   "outputs": [
    {
     "data": {
      "text/plain": [
       "tensor([0.1360, 0.0000])"
      ]
     },
     "execution_count": 29,
     "metadata": {},
     "output_type": "execute_result"
    }
   ],
   "source": [
    "data_file  = 'C:\\\\Users\\\\petro\\\\Dropbox\\\\Projetos\\\\futurelab\\\\posdoc\\\\st_nca\\\\PEMS03_data_THIS_ONE.csv'\n",
    "data = pd.read_csv(data_file)\n",
    "data['timestamp']= to_pandas_datetime(data['timestamp'].values)\n",
    "\n",
    "te = TemporalEmbedding(data['timestamp'])\n",
    "\n",
    "te[data['timestamp'][0]]"
   ]
  },
  {
   "cell_type": "code",
   "execution_count": 30,
   "metadata": {},
   "outputs": [
    {
     "name": "stderr",
     "output_type": "stream",
     "text": [
      "C:\\Users\\petro\\AppData\\Local\\Temp\\ipykernel_28564\\2097255585.py:11: DeprecationWarning: parsing timezone aware datetimes is deprecated; this will raise an error in the future\n",
      "  return np.datetime64(date.astimezone(timezone.utc))\n"
     ]
    },
    {
     "data": {
      "text/plain": [
       "numpy.datetime64('2018-09-01T03:00:00.000000')"
      ]
     },
     "execution_count": 30,
     "metadata": {},
     "output_type": "execute_result"
    }
   ],
   "source": [
    "from_datetime_to_np(from_np_to_datetime(data['timestamp'][0]))"
   ]
  },
  {
   "cell_type": "markdown",
   "metadata": {},
   "source": [
    "### Spatial Embedding"
   ]
  },
  {
   "cell_type": "code",
   "execution_count": 5,
   "metadata": {},
   "outputs": [],
   "source": [
    "class SpatialEmbedding(nn.Module):\n",
    "  def __init__(self, graph, laplacian_components = 2, **kwargs):\n",
    "    super().__init__()\n",
    "    self.device = kwargs.get('device','cpu')\n",
    "    self.dtype = kwargs.get('dtype',torch.float32)\n",
    "    tmp_dict = {}\n",
    "    lat_dict = nx.get_node_attributes(graph,'lat')\n",
    "    lon_dict = nx.get_node_attributes(graph,'lon')\n",
    "\n",
    "    lat = [v for v in lat_dict.values()]\n",
    "    lon = [v for v in lon_dict.values()]\n",
    "    lat_min, lat_max = np.min(lat), np.max(lat)\n",
    "    lat_rng = lat_max-lat_min\n",
    "    lon_min, lon_max = np.min(lon), np.max(lon)\n",
    "    lon_rng = lon_max-lon_min\n",
    "\n",
    "    M = nx.adjacency_matrix(graph).todense()\n",
    "    laplacian = SpectralEmbedding(n_components=laplacian_components) #, affinity='precomputed')\n",
    "    laplacian_map = laplacian.fit_transform(M)\n",
    "\n",
    "    print(laplacian_map.shape)\n",
    "\n",
    "    self.length = 0\n",
    "    for ix, node in enumerate(graph.nodes()):\n",
    "        emb = np.zeros(4)\n",
    "        emb[0] = (lat_dict[node] - lat_min) / lat_rng * 2 - 1\n",
    "        emb[1] = (lon_dict[node] - lon_min) / lon_rng * 2 - 1\n",
    "        emb[2:] = laplacian_map[ix,:]\n",
    "        tmp_dict[str(node)] = torch.tensor(emb, dtype = self.dtype, device = self.device)\n",
    "        self.length += 1\n",
    "\n",
    "    self.embeddings = TensorDict(tmp_dict) \n",
    "    \n",
    "  def forward(self, node):\n",
    "     return self.embeddings[str(node)]\n",
    "  \n",
    "  def __getitem__(self,  node):\n",
    "     return self.embeddings[str(node)]\n",
    "  \n",
    "  def all(self):\n",
    "    ret = torch.empty(self.length, 4,\n",
    "                        dtype=self.dtype, device=self.device)\n",
    "    for it,emb in enumerate(self.embeddings.values(sort=True)):\n",
    "      ret[it, :] = emb\n",
    "    return ret\n",
    "  \n",
    "  def to(self, *args, **kwargs):\n",
    "    self = super().to(*args, **kwargs)\n",
    "    if isinstance(args[0], str):\n",
    "      self.device = args[0]\n",
    "    else:\n",
    "      self.dtype = args[0]\n",
    "    self.embeddings = self.embeddings.to(*args, **kwargs)\n",
    "\n",
    "    return self"
   ]
  },
  {
   "cell_type": "markdown",
   "metadata": {},
   "source": [
    "### Z-Transform"
   ]
  },
  {
   "cell_type": "code",
   "execution_count": 6,
   "metadata": {},
   "outputs": [],
   "source": [
    "class ZTransform(nn.Module):\n",
    "  def __init__(self, data, **kwargs):\n",
    "    super().__init__()\n",
    "    self.device = kwargs.get('device','cpu')\n",
    "    self.dtype = kwargs.get('dtype',torch.float32)\n",
    "    data = torch.tensor(data, dtype=self.dtype, device=self.device)\n",
    "    self.mu = torch.mean(data)\n",
    "    self.sigma = torch.std(data)\n",
    "    \n",
    "  def forward(self, x):\n",
    "     return (x - self.mu) / self.sigma\n",
    "  \n",
    "  def to(self, *args, **kwargs):\n",
    "    self = super().to(*args, **kwargs)\n",
    "    if isinstance(args[0], str):\n",
    "      self.device = args[0]\n",
    "    else:\n",
    "      self.dtype = args[0]\n",
    "    self.mu = self.mu.to(*args, **kwargs)\n",
    "    self.sigma = self.sigma.to(*args, **kwargs)\n",
    "\n",
    "    return self"
   ]
  },
  {
   "cell_type": "markdown",
   "metadata": {},
   "source": [
    "### Tokenizer"
   ]
  },
  {
   "cell_type": "code",
   "execution_count": 47,
   "metadata": {},
   "outputs": [],
   "source": [
    "class NeighborhoodTokenizer(nn.Module):\n",
    "  def __init__(self, **kwargs):\n",
    "    super().__init__()\n",
    "\n",
    "    self.NULL_SYMBOL = -99\n",
    "\n",
    "    self.device = kwargs.get('device','cpu')\n",
    "    self.dtype = kwargs.get('dtype',torch.float32)\n",
    "\n",
    "    self.graph = kwargs.get('graph',None)\n",
    "\n",
    "    self.num_nodes = kwargs.get('num_nodes',None)\n",
    "    self.max_length = kwargs.get('max_length',None)\n",
    "    self.token_dim = kwargs.get('token_dim',None)\n",
    "\n",
    "    self.ztransform = kwargs.get('ztransform',None)\n",
    "    self.spatial_embedding = kwargs.get('spatial_embedding',None)\n",
    "    self.temporal_embedding = kwargs.get('temporal_embedding',None)\n",
    "\n",
    "  def normalized_data(self, data, sensor):\n",
    "    if isinstance(data, pd.DataFrame):\n",
    "      values = data[str(sensor)].values\n",
    "    elif isinstance(data, TensorDict):\n",
    "      values = data[str(sensor)]\n",
    "                \n",
    "    return self.ztransform(torch.tensor(values, dtype=self.dtype, device=self.device))\n",
    "    \n",
    "  def normalized_sample(self, data, sensor, index):\n",
    "    if isinstance(data, pd.DataFrame):\n",
    "      value = data[str(sensor)].values[index]\n",
    "    elif isinstance(data, TensorDict):\n",
    "      value = data[str(sensor)]\n",
    "    return self.ztransform(torch.tensor(value, dtype=self.dtype, device=self.device))\n",
    "  \n",
    "  \n",
    "  def tokenize(self, timestamp, values, node):\n",
    "    val = self.ztransform(values[str(node)])\n",
    "    tim_emb = self.temporal_embedding(timestamp)\n",
    "\n",
    "    tokens = self.spatial_embedding[node]\n",
    "    tokens = torch.hstack([tokens, val ])\n",
    "    tokens = torch.hstack([tokens, tim_emb])\n",
    "\n",
    "    m = 1\n",
    "\n",
    "    for neighbor in self.graph.neighbors(node):\n",
    "      m += 1\n",
    "      tokens = torch.hstack([tokens, self.spatial_embedding[neighbor]])\n",
    "      tokens = torch.hstack([tokens, self.ztransform(values[str(neighbor)])])\n",
    "      tokens = torch.hstack([tokens, tim_emb])\n",
    "\n",
    "    tokens = tokens.reshape(1, m, self.token_dim)\n",
    "\n",
    "    tokens = torch.hstack([tokens, torch.full((1, self.max_length - m, self.token_dim), self.NULL_SYMBOL)])\n",
    "\n",
    "    return tokens\n",
    "  \n",
    "  # Create an empty sequence of tokens (filled with -1)\n",
    "  # Then extracts the data for a sensor and its neighbors and fill the values\n",
    "  # in the tokens, together with the spatial and temporal embeddings\n",
    "  def tokenize_all(self, data, sensor):\n",
    "\n",
    "    tmp = self.normalized_data(data, sensor)\n",
    "    n = len(tmp)\n",
    "    tim_emb = self.temporal_embedding.all().reshape(n,2)\n",
    "\n",
    "    tokens = self.spatial_embedding[sensor].repeat(n,1)\n",
    "    tokens = torch.hstack([tokens, tmp.reshape(n,1) ])\n",
    "    tokens = torch.hstack([tokens, tim_emb])\n",
    "\n",
    "    m = 1\n",
    "\n",
    "    for neighbor in self.graph.neighbors(sensor):\n",
    "      m += 1\n",
    "      tokens = torch.hstack([tokens, self.spatial_embedding[neighbor].repeat(n,1)])\n",
    "      tokens = torch.hstack([tokens, self.normalized_data(data, neighbor).reshape(n,1) ])\n",
    "      tokens = torch.hstack([tokens, tim_emb])\n",
    "\n",
    "    tokens = tokens.reshape(n, m, self.token_dim)\n",
    "\n",
    "\n",
    "    tokens = torch.hstack([tokens, torch.full((n,  self.max_length - m, self.token_dim), self.NULL_SYMBOL)])\n",
    "\n",
    "    return tokens\n",
    "\n",
    "  def tokenize_sample(self, data, node, index):\n",
    "\n",
    "    if isinstance(data, pd.DataFrame):\n",
    "      dt = data['timestamp'][index]\n",
    "    elif isinstance(data, TensorDict):\n",
    "      dt = index\n",
    "\n",
    "    tim_emb = self.temporal_embedding[dt]\n",
    "\n",
    "    tokens = self.spatial_embedding[node]\n",
    "    tokens = torch.hstack([tokens, self.normalized_sample(data, node, index)])\n",
    "    tokens = torch.hstack([tokens, tim_emb])\n",
    "\n",
    "    m = 1\n",
    "\n",
    "    for neighbor in self.graph.neighbors(node):\n",
    "      m += 1\n",
    "      tokens = torch.hstack([tokens, self.spatial_embedding[neighbor]])\n",
    "      tokens = torch.hstack([tokens, self.normalized_sample(data, neighbor, index)])\n",
    "      tokens = torch.hstack([tokens, tim_emb])\n",
    "\n",
    "    tokens = tokens.reshape(1, m, self.token_dim)\n",
    "\n",
    "    tokens = torch.hstack([tokens, torch.full((1, self.max_length - m, self.token_dim), self.NULL_SYMBOL)])\n",
    "\n",
    "    return tokens.reshape(self.max_length, self.token_dim)\n",
    "    \n",
    "  def forward(self, data, node, sample=None, **kwargs):\n",
    "     if sample is None:\n",
    "       return self.tokenize_all(data, node)\n",
    "     else:\n",
    "       return self.tokenize_sample(data, node, sample)\n",
    "  \n",
    "  def to(self, *args, **kwargs):\n",
    "    self = super().to(*args, **kwargs)\n",
    "    if isinstance(args[0], str):\n",
    "      self.device = args[0]\n",
    "    else:\n",
    "      self.dtype = args[0]\n",
    "    self.ztransform = self.ztransform.to(*args, **kwargs)\n",
    "    self.spatial_embedding = self.spatial_embedding.to(*args, **kwargs)\n",
    "    self.temporal_embedding = self.temporal_embedding.to(*args, **kwargs)\n",
    "    return self"
   ]
  },
  {
   "cell_type": "markdown",
   "metadata": {
    "id": "PqNvqlgxVkCK"
   },
   "source": [
    "## Data"
   ]
  },
  {
   "cell_type": "markdown",
   "metadata": {
    "id": "u_XNIsOiOdwY"
   },
   "source": [
    "### PEMS03 Class"
   ]
  },
  {
   "cell_type": "code",
   "execution_count": 48,
   "metadata": {
    "id": "6YNjhWAaOdwY"
   },
   "outputs": [
    {
     "name": "stderr",
     "output_type": "stream",
     "text": [
      "C:\\Users\\petro\\AppData\\Local\\Temp\\ipykernel_28564\\3884257881.py:6: UserWarning: To copy construct from a tensor, it is recommended to use sourceTensor.clone().detach() or sourceTensor.clone().detach().requires_grad_(True), rather than torch.tensor(sourceTensor).\n",
      "  data = torch.tensor(data, dtype=self.dtype, device=self.device)\n"
     ]
    },
    {
     "name": "stdout",
     "output_type": "stream",
     "text": [
      "(358, 2)\n"
     ]
    }
   ],
   "source": [
    "class PEMS03:\n",
    "\n",
    "    def __init__(self,**kwargs):\n",
    "\n",
    "      self.dtype = kwargs.get('dtype',torch.float64)\n",
    "      self.device = kwargs.get('device','cpu')\n",
    "\n",
    "      edges = pd.read_csv(kwargs.get('edges_file',edges_file))\n",
    "      nodes = pd.read_csv(kwargs.get('nodes_file',nodes_file))\n",
    "      self.data = pd.read_csv(kwargs.get('data_file',data_file))\n",
    "      self.data['timestamp']= pd.to_datetime(self.data['timestamp'].values, format='%m/%d/%Y %H:%M')\n",
    "\n",
    "      self.ztransform = ZTransform(torch.tensor(self.data[self.data.columns[1:]].values,\n",
    "                                                dtype=self.dtype, device=self.device),\n",
    "                                                dtype=self.dtype, device=self.device)\n",
    "\n",
    "      # Create the graph\n",
    "      self.G=nx.Graph()\n",
    "      for row in edges.iterrows():\n",
    "        self.G.add_edge(int(row[1]['source']),int(row[1]['target']), weight=row[1]['weight'])\n",
    "\n",
    "      del(edges)\n",
    "\n",
    "      coordinates = {}\n",
    "\n",
    "      for ix, node in enumerate(self.G.nodes()):\n",
    "\n",
    "        _, lat, lon = nodes[nodes['sensor'] == node].values[0]\n",
    "\n",
    "        coordinates[node] = {'lat': lat, 'lon': lon }\n",
    "\n",
    "      nx.set_node_attributes(self.G, coordinates)\n",
    "\n",
    "      self.node_embeddings = SpatialEmbedding(self.G, dtype=self.dtype, device=self.device)\n",
    "\n",
    "      # The maximum sequence length is equal to the maximum graph degree, or the\n",
    "      # maximum number of neighbors a node have in the graph\n",
    "      self.max_length = max([d for n, d in self.G.degree()]) + 1\n",
    "\n",
    "      # precompute and store all time embeddings to save processing\n",
    "      self.time_embeddings = TemporalEmbedding(self.data['timestamp'], dtype=self.dtype, device=self.device)\n",
    "\n",
    "      self.num_sensors = len(nodes)\n",
    "\n",
    "      del(nodes)\n",
    "\n",
    "      self.num_samples = len(self.data)\n",
    "      self.token_dim = 7\n",
    "\n",
    "      self.value_index = 4\n",
    "\n",
    "      self.tokenizer = NeighborhoodTokenizer(dtype = self.dtype, device = self.device,\n",
    "                                             graph = self.G, num_nodes = self.num_sensors,\n",
    "                                             max_length = self.max_length, \n",
    "                                             token_dim = self.token_dim, \n",
    "                                             ztransform = self.ztransform,\n",
    "                                             spatial_embedding = self.node_embeddings,\n",
    "                                             temporal_embedding = self.time_embeddings)\n",
    "\n",
    "    \n",
    "\n",
    "    # Will returna a SensorDataset filled with the sensor & neighbors preprocessed data (X)\n",
    "    # and the expected values for t+y (y)\n",
    "    def get_sensor_dataset(self, sensor, train = 0.7, dtype = torch.float64, **kwargs):\n",
    "      X = self.tokenizer.tokenize_all(self.data, sensor)[:-1]\n",
    "      y = torch.tensor(self.data[str(sensor)].values[1:], dtype=self.dtype, device=self.device)\n",
    "      return SensorDataset(str(sensor),X,y,train, dtype, num_features = self.num_sensors,\n",
    "                           max_length=self.max_length, token_dim=self.token_dim,\n",
    "                           value_index=self.value_index, **kwargs)\n",
    "\n",
    "    def get_fewsensors_dataset(self, sensors, train = 0.7, dtype = torch.float64, **kwargs):\n",
    "      X = None\n",
    "      y = None\n",
    "      try:\n",
    "        for sensor in sensors:\n",
    "          tmpX = self.tokenizer.tokenize_all(self.data, sensor)[:-1]\n",
    "          tmpy = torch.tensor(self.data[str(sensor)].values[1:], dtype=self.dtype, device=self.device)\n",
    "          if X is None:\n",
    "            X = tmpX\n",
    "            y = tmpy\n",
    "          else:\n",
    "            #X = np.vstack((X,tmpX))\n",
    "            X = torch.vstack((X,tmpX))\n",
    "            #y = np.hstack((y,tmpy))\n",
    "            y = torch.hstack((y,tmpy))\n",
    "      except Exception as ex:\n",
    "        print(sensor, str(ex))\n",
    "\n",
    "      return SensorDataset('FEW',X,y,train, dtype, num_features = self.num_sensors,\n",
    "                           max_length=self.max_length, token_dim=self.token_dim,\n",
    "                           value_index=self.value_index, **kwargs)\n",
    "\n",
    "    \n",
    "    def get_breadth_dataset(self, start_sensor, max_sensors = 20, train = 0.7, dtype = torch.float64, **kwargs):\n",
    "      sensors = []\n",
    "      next = [start_sensor]\n",
    "      m = 0\n",
    "      while m < max_sensors:\n",
    "        for sensor in next:\n",
    "          sensors.append(sensor)\n",
    "          m += 1\n",
    "          next.remove(sensor)\n",
    "          if m < max_sensors:\n",
    "            for neighbor in self.G.neighbors(sensor):\n",
    "              next.append(neighbor)\n",
    "          else:\n",
    "            break\n",
    "\n",
    "      return self.get_fewsensors_dataset(sensors, train = train, dtype = dtype, **kwargs), sensors\n",
    "\n",
    "    def plot_embeddings(self, limit=5000):\n",
    "      pos_latlon = nx.circular_layout(self.G)\n",
    "      pos_graph = nx.circular_layout(self.G)\n",
    "      lat_max, lat_min = -np.inf, np.inf\n",
    "      lon_max, lon_min = -np.inf, np.inf\n",
    "\n",
    "      graph1_max, graph1_min = -np.inf, np.inf\n",
    "      graph2_max, graph2_min = -np.inf, np.inf\n",
    "\n",
    "      for node in self.G.nodes():\n",
    "          emb = self.node_embeddings[node]\n",
    "          pos_graph[node] = emb[0:2]\n",
    "          pos_latlon[node] = emb[2:4]\n",
    "\n",
    "          lat_max, lat_min = max(lat_max, pos_latlon[node][0]), min(lat_min, pos_latlon[node][0])\n",
    "          lon_max, lon_min = max(lon_max, pos_latlon[node][1]), min(lon_min, pos_latlon[node][1])\n",
    "\n",
    "          graph1_max, graph1_min = max(graph1_max, pos_graph[node][0]), min(graph1_min, pos_graph[node][0])\n",
    "          graph2_max, graph2_min = max(graph2_max, pos_graph[node][1]), min(graph2_min, pos_graph[node][1])\n",
    "\n",
    "      fig, ax = plt.subplots(1, 3, figsize=(15,5))\n",
    "      nx.draw(self.G, pos_latlon, node_size=25, ax=ax[0], hide_ticks=False)\n",
    "      ax[0].set_xlim([lat_min, lat_max])\n",
    "      ax[0].set_ylim([lon_min, lon_max])\n",
    "      xticks = [k for k in np.linspace(lat_min, lat_max, 5)]\n",
    "      ax[0].set_xticks(xticks, [str(k) for k in xticks])\n",
    "      yticks = [k for k in np.linspace(lon_min, lon_max, 5)]\n",
    "      ax[0].set_yticks(yticks, [str(k) for k in yticks])\n",
    "      ax[0].tick_params(labelleft=True)\n",
    "\n",
    "      nx.draw(self.G, pos_graph, node_size=25, ax=ax[1], hide_ticks=False)\n",
    "      ax[1].set_xlim([graph1_min, graph1_max])\n",
    "      ax[1].set_ylim([graph2_min, graph2_max])\n",
    "\n",
    "      ax[2].plot(self.time_embeddings[:limit, 0], color='red', label='Weekly seasonality')\n",
    "      ax[2].plot(self.time_embeddings[:limit, 1], color='blue', label='Hourly seasonality')\n",
    "      #ax[2].legend(loc='upper right')\n",
    "      #limits = plt.axis(\"on\")  # turn off axis\n",
    "      plt.show()\n",
    "      #plt.show()\n",
    "\n",
    "\n",
    "base = 'C:\\\\Users\\\\petro\\\\Dropbox\\\\Projetos\\\\futurelab\\\\posdoc\\\\st_nca\\\\'\n",
    "\n",
    "edges_file = base + 'PEMS03.csv'\n",
    "nodes_file = base + 'pems03_preprocessed.csv'\n",
    "data_file = base + 'PEMS03_data_THIS_ONE.csv'\n",
    "\n",
    "pems=PEMS03(edges_file=edges_file, nodes_file=nodes_file, data_file=data_file)"
   ]
  },
  {
   "cell_type": "code",
   "execution_count": 9,
   "metadata": {},
   "outputs": [
    {
     "data": {
      "text/plain": [
       "tensor([[-1.0000e+00,  2.0378e-01,  7.0394e-04,  1.6078e-04, -4.6803e-01,\n",
       "          1.3678e-01,  2.1644e-01],\n",
       "        [-9.8811e-01,  1.9428e-01, -5.1730e-03, -8.3282e-05, -9.2034e-01,\n",
       "          1.3678e-01,  2.1644e-01],\n",
       "        [-9.9000e+01, -9.9000e+01, -9.9000e+01, -9.9000e+01, -9.9000e+01,\n",
       "         -9.9000e+01, -9.9000e+01],\n",
       "        [-9.9000e+01, -9.9000e+01, -9.9000e+01, -9.9000e+01, -9.9000e+01,\n",
       "         -9.9000e+01, -9.9000e+01],\n",
       "        [-9.9000e+01, -9.9000e+01, -9.9000e+01, -9.9000e+01, -9.9000e+01,\n",
       "         -9.9000e+01, -9.9000e+01],\n",
       "        [-9.9000e+01, -9.9000e+01, -9.9000e+01, -9.9000e+01, -9.9000e+01,\n",
       "         -9.9000e+01, -9.9000e+01],\n",
       "        [-9.9000e+01, -9.9000e+01, -9.9000e+01, -9.9000e+01, -9.9000e+01,\n",
       "         -9.9000e+01, -9.9000e+01]], dtype=torch.float64)"
      ]
     },
     "execution_count": 9,
     "metadata": {},
     "output_type": "execute_result"
    }
   ],
   "source": [
    "pems.tokenizer.tokenize_sample(pems.data, 317141, 10)\n",
    "#pems.tokenizer.tokenize_all(pems.data, 317141)"
   ]
  },
  {
   "cell_type": "markdown",
   "metadata": {
    "id": "dwBMKodlsdVG"
   },
   "source": [
    "### Sensor Dataset"
   ]
  },
  {
   "cell_type": "code",
   "execution_count": 10,
   "metadata": {
    "id": "Tr8FoTHcscMB"
   },
   "outputs": [],
   "source": [
    "class SensorDataset(Dataset):\n",
    "  def __init__(self, name, X, y, train = 0.7,\n",
    "               dtype = torch.float64, **kwargs):\n",
    "    super().__init__()\n",
    "\n",
    "    self.NULL_SYMBOL = -99\n",
    "\n",
    "    self.behavior = kwargs.get('behavior','deterministic')\n",
    "\n",
    "    self.num_samples = len(X)\n",
    "\n",
    "    self.num_features = kwargs.get('num_features',0)\n",
    "\n",
    "    self.max_length = kwargs.get('max_length',0)\n",
    "\n",
    "    self.token_dim = kwargs.get('token_dim',0)\n",
    "\n",
    "    self.value_index= kwargs.get('value_index',0)\n",
    "\n",
    "    self.name = name\n",
    "    self.dtype = dtype\n",
    "    self.device = kwargs.get('device','cpu')\n",
    "\n",
    "    self.X = X.to(self.dtype).to(self.device)\n",
    "    self.y = y.to(self.dtype).to(self.device)\n",
    "\n",
    "    self.indexes = torch.randperm(self.num_samples)\n",
    "\n",
    "    self.X = self.X[self.indexes]\n",
    "    self.y = self.y[self.indexes]\n",
    "\n",
    "    self.train_split = int(train * self.num_samples)\n",
    "    self.is_validation = False\n",
    "\n",
    "  def train(self) -> Dataset:\n",
    "    tmp = copy.deepcopy(self)\n",
    "    tmp.is_validation = False\n",
    "    tmp.X = self.X[:self.train_split].to(self.device)\n",
    "    tmp.y = self.y[:self.train_split].to(self.device)\n",
    "    tmp.num_samples = tmp.X.size(0)\n",
    "    return tmp\n",
    "\n",
    "  def test(self) -> Dataset:\n",
    "    tmp = copy.deepcopy(self)\n",
    "    tmp.is_validation = True\n",
    "    tmp.X = self.X[self.train_split:].to(self.device)\n",
    "    tmp.y = self.y[self.train_split:].to(self.device)\n",
    "    tmp.num_samples = tmp.X.size(0)\n",
    "    return tmp\n",
    "\n",
    "  # Make this function stochastic!\n",
    "  # Sometimes X will return the full information,sometimes X will miss some part of the information,\n",
    "  # and sometimes will return with corrupted information (add noise)\n",
    "  def __getitem__(self, index):\n",
    "    if self.behavior == 'deterministic':\n",
    "      return self.X[index], self.y[index]\n",
    "    else:\n",
    "      x = torch.clone(self.X[index])\n",
    "      r = np.random.rand()\n",
    "      if r >= .7:\n",
    "        x[0,self.value_index] = torch.tensor([self.NULL_SYMBOL], dtype = self.dtype, device=self.device)\n",
    "        #x[1:,:] = torch.full((self.max_length-1, self.token_dim),self.NULL_SYMBOL, dtype = self.dtype)\n",
    "      elif r >= .5:\n",
    "        x[1:,:] = torch.full((self.max_length-1, self.token_dim),self.NULL_SYMBOL, dtype = self.dtype, device=self.device)\n",
    "      elif r >= .35:\n",
    "        x[:,self.value_index] = x[:,self.value_index] + torch.randn(self.max_length, dtype = self.dtype, device=self.device)/12\n",
    "\n",
    "      return x, self.y[index]\n",
    "\n",
    "  def __len__(self):\n",
    "    return self.num_samples\n",
    "\n",
    "  def __iter__(self):\n",
    "    for ix in range(self.num_samples):\n",
    "      yield self[ix]\n",
    "\n",
    "  def __str__(self):\n",
    "    return \"Dataset {}: {} attributes {} samples\".format(self.name, self.num_attributes, self.num_samples)\n",
    "  \n",
    "  def to(self, *args, **kwargs):\n",
    "    if isinstance(args[0], str):\n",
    "      self.device = args[0]\n",
    "    else:\n",
    "      self.dtype = args[0]\n",
    "    self.X = self.X.to(*args, **kwargs)\n",
    "    self.y = self.y.to(*args, **kwargs)\n",
    "    return self"
   ]
  },
  {
   "cell_type": "code",
   "execution_count": 54,
   "metadata": {
    "id": "HhfnBkmBqhYp"
   },
   "outputs": [],
   "source": [
    "class AllSensorDataset(Dataset):\n",
    "  def __init__(self, pems, train = 0.7,\n",
    "               dtype = torch.float64, **kwargs):\n",
    "    super().__init__()\n",
    "\n",
    "    self.pems = pems\n",
    "\n",
    "    self.behavior = kwargs.get('behavior','deterministic')\n",
    "\n",
    "    self.offset = kwargs.get('offset',0)\n",
    "    self.samples = kwargs.get('samples',pems.num_samples * pems.num_sensors)\n",
    "\n",
    "\n",
    "    self.dtype = dtype\n",
    "\n",
    "    self.indexes = torch.randperm(self.samples) + self.offset\n",
    "\n",
    "    self.train_pct = train\n",
    "\n",
    "    self.train_split = int(train * self.samples)\n",
    "    self.is_validation = False\n",
    "\n",
    "  def train(self) -> Dataset:\n",
    "    tmp = AllSensorDataset(self.pems, train_split = self.train_pct, dtype=self.dtype, offset = 0, samples = self.train_split)\n",
    "    tmp.is_validation = False\n",
    "    return tmp\n",
    "\n",
    "  def test(self) -> Dataset:\n",
    "    tmp = AllSensorDataset(self.pems, train_split = self.train_pct, dtype=self.dtype, offset = self.train_split, samples = (self.pems.num_samples * self.pems.num_sensors) - self.train_split)\n",
    "    tmp.is_validation = True\n",
    "    return tmp\n",
    "\n",
    "  def __getitem__(self, index):\n",
    "    #print(index)\n",
    "    new_ix = self.indexes[index].item()\n",
    "    #new_ix = index\n",
    "    #print(new_ix)\n",
    "    sensor = self.pems.inverse_sensor_indexes[ new_ix // self.pems.num_samples ]\n",
    "    sensor_ix = new_ix % self.pems.num_samples\n",
    "    x = self.pems.tokenize_sample(sensor, sensor_ix )\n",
    "    y = self.pems.data[str(sensor)].values[sensor_ix+ 1] if sensor_ix < self.pems.num_samples - 1 else self.pems.data[str(sensor)].values[sensor_ix]\n",
    "    x = torch.from_numpy(np.array([x])).to(self.dtype).squeeze()\n",
    "    y = torch.from_numpy(np.array([y])).to(self.dtype)\n",
    "    if self.behavior == 'deterministic':\n",
    "      return x, y\n",
    "    else:\n",
    "      x = self.X[index]\n",
    "      r = np.random.rand()\n",
    "      if r >= .7:\n",
    "        x[self.pems.value_index] = torch.tensor([self.pems.NULL_SYMBOL], dtype = self.dtype)\n",
    "        x[1:] = torch.full((self.pems.max_length-1, self.pems.token_dim),self.pems.NULL_SYMBOL, dtype = self.dtype)\n",
    "      elif r >= .5:\n",
    "        x[1:] = torch.full((self.pems.max_length-1, self.pems.token_dim),self.pems.NULL_SYMBOL, dtype = self.dtype)\n",
    "      elif r >= .3:\n",
    "        x[self.pems.value_index] = x[self.pems.value_index] + torch.randn(self.pems.max_length, dtype = self.dtype)\n",
    "\n",
    "      return x, y\n",
    "\n",
    "  def __len__(self):\n",
    "    return self.samples\n",
    "\n",
    "  def __iter__(self):\n",
    "    for ix in range(self.samples):\n",
    "      yield self[ix]\n",
    "\n",
    "  def __str__(self):\n",
    "    return \"Dataset {}: {} attributes {} samples\".format(self.name, self.num_attributes, self.num_samples)"
   ]
  },
  {
   "cell_type": "markdown",
   "metadata": {
    "id": "HI0kAT4-Whyz"
   },
   "source": [
    "### PEMS03 Tests"
   ]
  },
  {
   "cell_type": "code",
   "execution_count": 92,
   "metadata": {
    "colab": {
     "base_uri": "https://localhost:8080/"
    },
    "id": "c9HYrF6IRs_K",
    "outputId": "dc9eb1e7-f5f8-4706-b532-eab5f5dccbc2"
   },
   "outputs": [
    {
     "data": {
      "text/plain": [
       "(tensor([[-0.8353,  0.1061, -0.0030, -0.0013, -0.7881,  0.1143,  0.2377],\n",
       "         [-0.8535,  0.1128,  0.0325,  0.0962, -1.0665,  0.1143,  0.2377],\n",
       "         [-0.8641,  0.1167,  0.0325,  0.0962, -0.8647,  0.1143,  0.2377],\n",
       "         [-0.8535,  0.1128,  0.0325,  0.0962, -1.2474,  0.1143,  0.2377],\n",
       "         [-0.8641,  0.1167,  0.0325,  0.0962, -1.1291,  0.1143,  0.2377],\n",
       "         [-0.7990,  0.0935,  0.0157,  0.0616, -1.0873,  0.1143,  0.2377],\n",
       "         [-0.7990,  0.0935,  0.0157,  0.0616, -1.2196,  0.1143,  0.2377]]),\n",
       " tensor(71.))"
      ]
     },
     "execution_count": 92,
     "metadata": {},
     "output_type": "execute_result"
    }
   ],
   "source": [
    "ds = pems.get_fewsensors_dataset([314697, 315938, 312900], dtype=torch.float32)\n",
    "ds[0]"
   ]
  },
  {
   "cell_type": "code",
   "execution_count": null,
   "metadata": {
    "colab": {
     "base_uri": "https://localhost:8080/"
    },
    "id": "n8FwMFI5ohXV",
    "outputId": "0ed267e4-92a7-4565-b4d4-e8652f67193c"
   },
   "outputs": [],
   "source": [
    "ds = pems.get_allsensor_dataset()\n",
    "\n",
    "print(ds.train()[150][0].shape)\n",
    "print(ds.test()[150][0].shape)"
   ]
  },
  {
   "cell_type": "code",
   "execution_count": null,
   "metadata": {
    "colab": {
     "base_uri": "https://localhost:8080/",
     "height": 445
    },
    "id": "DNKWKUAqdCBO",
    "outputId": "9ce07993-15e0-45c2-a146-b29f3494e52b"
   },
   "outputs": [],
   "source": [
    "pems.plot_embeddings()\n"
   ]
  },
  {
   "cell_type": "code",
   "execution_count": null,
   "metadata": {
    "colab": {
     "base_uri": "https://localhost:8080/"
    },
    "id": "g-PPs8e3wVB-",
    "outputId": "043bd985-ca1d-4b7d-a063-b69f17733f60"
   },
   "outputs": [],
   "source": [
    "pems.sensor_indexes[312857]"
   ]
  },
  {
   "cell_type": "code",
   "execution_count": null,
   "metadata": {
    "colab": {
     "base_uri": "https://localhost:8080/"
    },
    "id": "QnRat--xlcPE",
    "outputId": "40baf7e6-c110-4da7-8dd8-1b08220a9cb7"
   },
   "outputs": [],
   "source": [
    "ds = pems.get_sensor_dataset(314697)\n",
    "ds[25]"
   ]
  },
  {
   "cell_type": "code",
   "execution_count": null,
   "metadata": {
    "colab": {
     "base_uri": "https://localhost:8080/"
    },
    "id": "6vCpMetuX4Oo",
    "outputId": "052bb392-8045-44c7-d56e-8c1cc3bf0f3e"
   },
   "outputs": [],
   "source": [
    "pems.max_length#.G[314697]"
   ]
  },
  {
   "cell_type": "markdown",
   "metadata": {
    "id": "b_tjVYZWRhJM"
   },
   "source": [
    "## Transformer Module"
   ]
  },
  {
   "cell_type": "markdown",
   "metadata": {
    "id": "LTQnFzcsUVAC"
   },
   "source": [
    "### MultiHeaded Attention"
   ]
  },
  {
   "cell_type": "code",
   "execution_count": 11,
   "metadata": {
    "id": "-LujGv1moaQ4"
   },
   "outputs": [],
   "source": [
    "#My own implementation, already tested\n",
    "#Original source:  https://github.com/petroniocandido/clshq_tk/blob/main/clshq_tk/modules/attention.py\n",
    "\n",
    "\n",
    "def f_token_level(x,y):\n",
    "  return x @ y\n",
    "\n",
    "token_level = torch.func.vmap(f_token_level, in_dims=0)\n",
    "\n",
    "def f_sequence_level(x,t,w):\n",
    "  return token_level(x, w.repeat(t,1,1))\n",
    "\n",
    "def f_batch_level(x, w):\n",
    "  return token_level(x, w.repeat(x.size(0),1,1))\n",
    "\n",
    "\n",
    "class MultiHeadAttention(nn.Module):\n",
    "  def __init__(self, num_heads, num_tokens, embed_dim,\n",
    "               device = None, dtype = torch.float64, **kwargs):\n",
    "    super().__init__()\n",
    "\n",
    "    self.num_heads = num_heads\n",
    "    self.num_tokens = num_tokens\n",
    "    self.embed_dim = embed_dim\n",
    "    self.dk = kwargs.get('dk', self.embed_dim)\n",
    "    self.dv = kwargs.get('dv', self.embed_dim)\n",
    "    self.device = device\n",
    "    self.dtype = dtype\n",
    "\n",
    "    self.sm = nn.Softmax(1)\n",
    "\n",
    "    self.WQ = [nn.Parameter(torch.randn(self.embed_dim, self.dk, device = self.device, dtype = self.dtype))\n",
    "               for i in range(self.num_heads)]\n",
    "    self.WK = [nn.Parameter(torch.randn(self.embed_dim, self.dk, device = self.device, dtype = self.dtype))\n",
    "               for i in range(self.num_heads)]\n",
    "    self.WV = [nn.Parameter(torch.randn(self.embed_dim, self.dv, device = self.device, dtype = self.dtype))\n",
    "               for i in range(self.num_heads)]\n",
    "\n",
    "    self.WO = nn.Parameter(torch.randn(self.num_heads * self.dv, self.embed_dim, device = self.device, dtype = self.dtype))\n",
    "\n",
    "  def forward(self, x):\n",
    "    b, t, e = x.size()\n",
    "\n",
    "    if t != self.num_tokens:\n",
    "      raise Exception(\"Number of tokens different from num_tokens\")\n",
    "\n",
    "    if e != self.embed_dim:\n",
    "      raise Exception(\"Token dimension different from embed_dim\")\n",
    "\n",
    "    x = x.to(self.dtype)\n",
    "\n",
    "    Z = torch.zeros(b, self.num_heads, self.num_tokens, self.dv, device = self.device, dtype = self.dtype)\n",
    "    Z2 = torch.zeros(b, self.num_tokens, self.embed_dim, device = self.device, dtype = self.dtype)\n",
    "    for h in range(self.num_heads):\n",
    "      Q_seq_fun = lambda x : f_sequence_level(x, self.num_tokens, self.WQ[h])\n",
    "      Q_sequence_level = torch.func.vmap(Q_seq_fun, in_dims=0)\n",
    "      Q = Q_sequence_level(x)\n",
    "\n",
    "      K_seq_fun = lambda x : f_sequence_level(x, self.num_tokens, self.WK[h])\n",
    "      K_sequence_level = torch.func.vmap(K_seq_fun, in_dims=0)\n",
    "      K = K_sequence_level(x)\n",
    "\n",
    "      V_seq_fun = lambda x : f_sequence_level(x, self.num_tokens, self.WV[h])\n",
    "      V_sequence_level = torch.func.vmap(V_seq_fun, in_dims=0)\n",
    "      V = V_sequence_level(x)\n",
    "\n",
    "      scores = Q @ K.view(b,e,t)\n",
    "\n",
    "      A = self.sm(scores / K.size(1) ** 0.5)\n",
    "\n",
    "      Z[:, h, :, :] = A @ V\n",
    "\n",
    "    Z_batch_fun = lambda input : f_batch_level(input, self.WO)\n",
    "    Z_batch_level = torch.func.vmap(Z_batch_fun, in_dims=0)\n",
    "    Zt = Z.reshape(b, self.num_tokens, self.num_heads * self.dv)\n",
    "    Z2 = Z_batch_level(Zt)\n",
    "\n",
    "    return Z2\n",
    "\n",
    "  def to(self, *args, **kwargs):\n",
    "    self = super().to(*args, **kwargs)\n",
    "\n",
    "    if isinstance(args[0], str):\n",
    "      self.device = args[0]\n",
    "    else:\n",
    "      self.dtype = args[0]\n",
    "\n",
    "    for h in range(self.num_heads):\n",
    "      self.WQ[h].to(*args, **kwargs)\n",
    "      self.WK[h].to(*args, **kwargs)\n",
    "      self.WV[h].to(*args, **kwargs)\n",
    "    self.WO.to(*args, **kwargs)\n",
    "    return self"
   ]
  },
  {
   "cell_type": "markdown",
   "metadata": {
    "id": "2FAkFR68UaSy"
   },
   "source": [
    "### Transformer"
   ]
  },
  {
   "cell_type": "code",
   "execution_count": 12,
   "metadata": {
    "id": "Y1E1x1k-UZmL"
   },
   "outputs": [],
   "source": [
    "#My own implementation, already tested\n",
    "#Original source:  https://github.com/petroniocandido/clshq_tk/blob/main/clshq_tk/modules/transformer.py\n",
    "\n",
    "class Transformer(nn.Module):\n",
    "  def __init__(self, num_heads, num_tokens,  embed_dim, feed_forward, activation = nn.GELU(),\n",
    "               device = None, dtype=torch.float64, **kwargs):\n",
    "    super().__init__()\n",
    "\n",
    "    self.num_heads = num_heads\n",
    "    self.num_tokens = num_tokens\n",
    "    self.embed_dim = embed_dim\n",
    "    self.device = device\n",
    "    self.dtype = dtype\n",
    "    self.attention = MultiHeadAttention(num_heads, num_tokens, embed_dim,\n",
    "                            dtype=self.dtype, device=self.device)\n",
    "    self.ln = nn.LayerNorm(embed_dim, dtype=self.dtype, device=self.device)\n",
    "    self.flat = nn.Flatten(1)\n",
    "    self.linear1 = nn.Linear(num_tokens * embed_dim, feed_forward,\n",
    "                            dtype=self.dtype, device=self.device)\n",
    "    self.linear2 = nn.Linear(feed_forward, num_tokens * embed_dim,\n",
    "                            dtype=self.dtype, device=self.device)\n",
    "    self.activation = activation\n",
    "    self.drop = nn.Dropout(.25)\n",
    "    self.unflat = nn.Unflatten(1, [num_tokens, embed_dim])\n",
    "\n",
    "  def forward(self, x):\n",
    "    z = self.attention(x)\n",
    "    z = self.ln(x + z)\n",
    "    z = self.flat(z)\n",
    "    z = self.activation(self.linear1(self.drop(z)))\n",
    "    z = self.activation(self.linear2(self.drop(z)))\n",
    "    z = self.unflat(z)\n",
    "    z = self.ln(x + z)\n",
    "    return z\n",
    "\n",
    "  def to(self, *args, **kwargs):\n",
    "    self = super().to(*args, **kwargs)\n",
    "    if isinstance(args[0], str):\n",
    "      self.device = args[0]\n",
    "    else:\n",
    "      self.dtype = args[0]\n",
    "    self.attention = self.attention.to(*args, **kwargs)\n",
    "    self.linear1 = self.linear1.to(*args, **kwargs)\n",
    "    self.linear2 = self.linear2.to(*args, **kwargs)\n",
    "    self.ln = self.ln.to(*args, **kwargs)\n",
    "    return self\n",
    "\n",
    "  def train(self, *args, **kwargs):\n",
    "    super().train(*args, **kwargs)\n",
    "    self.attention = self.attention.train(*args, **kwargs)\n",
    "    self.linear1 = self.linear1.train(*args, **kwargs)\n",
    "    self.linear2 = self.linear2.train(*args, **kwargs)\n",
    "    return self"
   ]
  },
  {
   "cell_type": "markdown",
   "metadata": {
    "id": "mHAwOo62Vfcx"
   },
   "source": [
    "## Cell Model"
   ]
  },
  {
   "cell_type": "code",
   "execution_count": 13,
   "metadata": {
    "id": "f5ONmpr4Ve0D"
   },
   "outputs": [],
   "source": [
    "class CellModel(nn.Module):\n",
    "  def __init__(self, num_tokens, dim_token,\n",
    "               num_transformers, num_heads, feed_forward, transformer_activation = nn.GELU(),\n",
    "               mlp = 1, mlp_dim = 100, mlp_activation = nn.ReLU(),\n",
    "               device = None, dtype = torch.float64, **kwargs):\n",
    "    super().__init__()\n",
    "    self.num_tokens = num_tokens\n",
    "    self.num_transformers = num_transformers\n",
    "    self.dim_token = dim_token\n",
    "    self.device = device\n",
    "    self.dtype = dtype\n",
    "    self.mlps = mlp\n",
    "\n",
    "    self.transformers = nn.ModuleList([Transformer(num_heads, self.num_tokens, dim_token, feed_forward, transformer_activation,\n",
    "                         dtype=self.dtype, device=self.device)\n",
    "                         for k in range(num_transformers)])\n",
    "\n",
    "    self.flat = nn.Flatten(1)\n",
    "\n",
    "    self.linear = nn.ModuleList()\n",
    "    for l in range(mlp):\n",
    "      in_dim = self.num_tokens * self.dim_token if l == 0 else mlp_dim\n",
    "      out_dim = 1 if l == mlp-1 else mlp_dim\n",
    "      self.linear.append(nn.Linear(in_dim, out_dim, dtype=self.dtype, device=self.device))\n",
    "\n",
    "    self.activation = mlp_activation\n",
    "    self.drop = nn.Dropout(.15)\n",
    "\n",
    "  def forward(self, x):\n",
    "    for transformer in self.transformers:\n",
    "      x = transformer(x)\n",
    "    z = self.flat(x)\n",
    "    for linear in self.linear:\n",
    "      z = self.activation(linear(self.drop(z)))\n",
    "    return z\n",
    "\n",
    "  def to(self, *args, **kwargs):\n",
    "    self = super().to(*args, **kwargs)\n",
    "    if isinstance(args[0], str):\n",
    "      self.device = args[0]\n",
    "    else:\n",
    "      self.dtype = args[0]\n",
    "    for k in range(self.num_transformers):\n",
    "      self.transformers[k] = self.transformers[k].to(*args, **kwargs)\n",
    "    for k in range(self.mlps):\n",
    "      self.linear[k] = self.linear[k].to(*args, **kwargs)\n",
    "    return self\n",
    "\n",
    "  def train(self, *args, **kwargs):\n",
    "    super().train(*args, **kwargs)\n",
    "    for k in range(self.num_transformers):\n",
    "      self.transformers[k] = self.transformers[k].train(*args, **kwargs)\n",
    "    for k in range(self.mlps):\n",
    "      self.linear[k] = self.linear[k].train(*args, **kwargs)\n",
    "    return self"
   ]
  },
  {
   "cell_type": "markdown",
   "metadata": {
    "id": "Ew2hXu4tfoxW"
   },
   "source": [
    "### Conformance checking"
   ]
  },
  {
   "cell_type": "code",
   "execution_count": 14,
   "metadata": {
    "colab": {
     "base_uri": "https://localhost:8080/"
    },
    "id": "5nG4HP7AfL4t",
    "outputId": "f6898029-a657-4cbb-fd93-ad093eb52674"
   },
   "outputs": [
    {
     "data": {
      "text/plain": [
       "torch.Size([10, 1])"
      ]
     },
     "execution_count": 14,
     "metadata": {},
     "output_type": "execute_result"
    }
   ],
   "source": [
    "cm = CellModel(num_tokens = pems.max_length, dim_token = pems.token_dim,\n",
    "               num_transformers = 2, num_heads = 8, feed_forward = 512, transformer_activation = nn.GELU(),\n",
    "               mlp = 3, mlp_dim = 512, mlp_activation = nn.GELU(), dtype = torch.float64)\n",
    "\n",
    "input = torch.randn(10, pems.max_length, pems.token_dim)\n",
    "output = cm.forward(input)\n",
    "\n",
    "output.shape"
   ]
  },
  {
   "cell_type": "markdown",
   "metadata": {
    "id": "pLR-MIFDVuk_"
   },
   "source": [
    "## Architecture Fine Tunning and Hyperparameter Optimization"
   ]
  },
  {
   "cell_type": "code",
   "execution_count": 52,
   "metadata": {
    "id": "hZevYP7RbqIF"
   },
   "outputs": [],
   "source": [
    "DEFAULT_PATH = base\n",
    "DEVICE = 'cuda' if torch.cuda.is_available() else 'cpu'\n",
    "\n",
    "def checkpoint(modelo, arquivo):\n",
    "  torch.save(modelo.state_dict(), DEFAULT_PATH + arquivo)\n",
    "\n",
    "def checkpoint_all(modelo, otimizador, arquivo):\n",
    "  torch.save({\n",
    "    'optim': otimizador.state_dict(),\n",
    "    'model': modelo.state_dict(),\n",
    "}, DEFAULT_PATH + arquivo)\n",
    "\n",
    "def resume(modelo, arquivo):\n",
    "  modelo.load_state_dict(torch.load(DEFAULT_PATH + arquivo, weights_only=True, map_location=torch.device(DEVICE)))\n",
    "\n",
    "def resume_all(modelo, otimizador, arquivo):\n",
    "  checkpoint = torch.load(DEFAULT_PATH + arquivo, map_location=torch.device(DEVICE))\n",
    "  modelo.load_state_dict(checkpoint['model'])\n",
    "  otimizador.load_state_dict(checkpoint['optim'])"
   ]
  },
  {
   "cell_type": "code",
   "execution_count": 16,
   "metadata": {
    "id": "QL3JiFUYV2Ka"
   },
   "outputs": [],
   "source": [
    "from torchmetrics.regression import SymmetricMeanAbsolutePercentageError\n",
    "import copy\n",
    "import time\n",
    "\n",
    "def train_step(DEVICE, train, test, model, loss, mape, optim):\n",
    "\n",
    "  model.train()\n",
    "\n",
    "  errors = []\n",
    "  mapes = []\n",
    "  for X,y in train:\n",
    "\n",
    "    optim.zero_grad()\n",
    "\n",
    "    X = X.to(DEVICE)\n",
    "    y = y.to(DEVICE)\n",
    "\n",
    "    y_pred = model.forward(X)\n",
    "\n",
    "    error = loss(y, y_pred.squeeze())\n",
    "    map = mape(y, y_pred.squeeze())\n",
    "\n",
    "    error.backward()\n",
    "    optim.step()\n",
    "\n",
    "    # Grava as métricas de avaliação\n",
    "    errors.append(error.cpu().item())\n",
    "    mapes.append(map.cpu().item())\n",
    "\n",
    "\n",
    "  ##################\n",
    "  # VALIDATION\n",
    "  ##################\n",
    "\n",
    "  model.eval()\n",
    "\n",
    "  errors_val = []\n",
    "  mapes_val = []\n",
    "  with torch.no_grad():\n",
    "    for X,y in test:\n",
    "\n",
    "      X = X.to(DEVICE)\n",
    "      y = y.to(DEVICE)\n",
    "\n",
    "      y_pred = model(X)\n",
    "\n",
    "      error_val = loss(y, y_pred.squeeze())\n",
    "      map_val = mape(y, y_pred.squeeze())\n",
    "\n",
    "      errors_val.append(error_val.cpu().item())\n",
    "      mapes_val.append(map_val.cpu().item())\n",
    "\n",
    "  return errors, mapes, errors_val, mapes_val\n",
    "\n",
    "\n",
    "def training_loop(DEVICE, dataset, model, display = None, **kwargs):\n",
    "\n",
    "  model = model.to(DEVICE)\n",
    "\n",
    "  checkpoint_file = kwargs.get('checkpoint_file', 'modelo.pt')\n",
    "\n",
    "  if display is None:\n",
    "    from IPython import display\n",
    "\n",
    "  batch_size = kwargs.get('batch', 10)\n",
    "\n",
    "  fig, ax = plt.subplots(1,3, figsize=(15, 5))\n",
    "\n",
    "  epochs = kwargs.get('epochs', 10)\n",
    "  lr = kwargs.get('lr', 0.001)\n",
    "  optimizer = kwargs.get('optim', optim.Adam(model.parameters(), lr=lr, weight_decay=0.0005))\n",
    "\n",
    "  train_ldr = DataLoader(dataset.train(), batch_size=batch_size, shuffle=True)\n",
    "  test_ldr = DataLoader(dataset.test(), batch_size=batch_size, shuffle=True)\n",
    "\n",
    "  loss = nn.MSELoss()\n",
    "  mape = SymmetricMeanAbsolutePercentageError().to(DEVICE)\n",
    "\n",
    "  error_train = []\n",
    "  mape_train = []\n",
    "  error_val = []\n",
    "  mape_val = []\n",
    "\n",
    "  start_time = time.time()\n",
    "\n",
    "  for epoch in range(epochs):\n",
    "\n",
    "    if epoch % 5 == 0:\n",
    "      checkpoint(model, checkpoint_file)\n",
    "\n",
    "    errors_train, map_train, errors_val, map_val = train_step(DEVICE, train_ldr, test_ldr, model, loss, mape, optimizer)\n",
    "\n",
    "    error_train.append(np.mean(errors_train))\n",
    "    mape_train.append(np.mean(map_train))\n",
    "    error_val.append(np.mean(errors_val))\n",
    "    mape_val.append(np.mean(map_val))\n",
    "\n",
    "    display.clear_output(wait=True)\n",
    "    ax[0].clear()\n",
    "    ax[0].plot(error_train, c='blue', label='Train')\n",
    "    ax[0].plot(error_val, c='red', label='Test')\n",
    "    ax[0].legend(loc='upper left')\n",
    "    ax[0].set_title(\"LOSS - All Epochs {} - Time: {} s\".format(epoch, round(time.time() - start_time, 0)))\n",
    "    ax[1].clear()\n",
    "    ax[1].plot(error_train[-20:], c='blue', label='Train')\n",
    "    ax[1].plot(error_val[-20:], c='red', label='Test')\n",
    "    ax[1].set_title(\"LOSS - Last 20 Epochs\".format(epoch))\n",
    "    ax[1].legend(loc='upper left')\n",
    "    ax[2].clear()\n",
    "    ax[2].plot(mape_train[-20:], c='blue', label='Train')\n",
    "    ax[2].plot(mape_val[-20:], c='red', label='Test')\n",
    "    ax[2].set_title(\"MAPE - Last 20 Epochs\".format(epoch))\n",
    "    ax[2].legend(loc='upper left')\n",
    "    plt.tight_layout()\n",
    "    display.display(plt.gcf())\n",
    "\n",
    "  plt.savefig(DEFAULT_PATH + \"training-\"+checkpoint_file+\".pdf\", dpi=150)\n",
    "\n",
    "  checkpoint(model, checkpoint_file)"
   ]
  },
  {
   "cell_type": "markdown",
   "metadata": {
    "id": "uiz3LgtBKyHU"
   },
   "source": [
    "### Experiments"
   ]
  },
  {
   "cell_type": "code",
   "execution_count": null,
   "metadata": {
    "id": "1XIZXBveYewx"
   },
   "outputs": [],
   "source": []
  },
  {
   "cell_type": "code",
   "execution_count": 93,
   "metadata": {
    "colab": {
     "base_uri": "https://localhost:8080/",
     "height": 437
    },
    "id": "crGQaQwgNq99",
    "outputId": "8c8a917a-c589-4a7d-be55-8add2a65a670"
   },
   "outputs": [
    {
     "data": {
      "image/png": "[encoded data removed]",
      "text/plain": [
       "<Figure size 1500x500 with 3 Axes>"
      ]
     },
     "metadata": {},
     "output_type": "display_data"
    },
    {
     "data": {
      "image/png": "[encoded data removed]",
      "text/plain": [
       "<Figure size 1500x500 with 3 Axes>"
      ]
     },
     "metadata": {},
     "output_type": "display_data"
    }
   ],
   "source": [
    "#ds = pems.get_fewsensors_dataset([311930, 312564, 312807, 312900, 313172, 314697, 315938, 317141, 318135, 318443 ], dtype=torch.float32, behavior='selfsupervised')\n",
    "#ds = pems.get_sensor_dataset(311930, dtype=torch.float32, behavior='nondeterministic')\n",
    "ds, sensors = pems.get_breadth_dataset(314697, max_sensors=20, \n",
    "                                       dtype=torch.float32,\n",
    "                                       behavior='selfsupervised')\n",
    "\n",
    "ds = ds.to(DEVICE)\n",
    "\n",
    "cm = CellModel(num_tokens = ds.max_length, dim_token = ds.token_dim,\n",
    "               num_transformers = 2, num_heads = 4, feed_forward = 256, transformer_activation = nn.GELU(),\n",
    "               mlp = 2, mlp_dim = 256, mlp_activation = nn.GELU(),\n",
    "               device = DEVICE, dtype = torch.float32)\n",
    "\n",
    "training_loop(DEVICE, ds, cm,  batch=2048, epochs=100, lr=0.001,\n",
    "              checkpoint_file='cell_model_{}_{}_{}_{}_{}'.format(2,4,256,2,256))"
   ]
  },
  {
   "cell_type": "code",
   "execution_count": null,
   "metadata": {},
   "outputs": [],
   "source": [
    "DEVICE"
   ]
  },
  {
   "cell_type": "code",
   "execution_count": null,
   "metadata": {
    "id": "_KDUK8ybcWsq"
   },
   "outputs": [],
   "source": [
    "ds, sensors = pems.get_breadth_dataset(314697, max_sensors=20, \n",
    "                                       dtype=torch.float64,\n",
    "                                       behavior='selfsupervised')\n",
    "\n",
    "ds = ds.to(DEVICE)\n",
    "\n",
    "cm = CellModel(num_tokens = ds.max_length, dim_token = ds.token_dim,\n",
    "               num_transformers = 4, num_heads = 16, feed_forward = 1024, transformer_activation = nn.GELU(),\n",
    "               mlp = 2, mlp_dim = 1024, mlp_activation = nn.GELU(),\n",
    "               device = DEVICE, dtype = torch.float64)\n",
    "\n",
    "training_loop(DEVICE, ds, cm,  batch=2048, epochs=100, lr=0.001,\n",
    "              checkpoint_file='cell_model_{}_{}_{}_{}_{}'.format(4,16,1024,2,1024))"
   ]
  },
  {
   "cell_type": "code",
   "execution_count": null,
   "metadata": {},
   "outputs": [],
   "source": [
    "training_loop(DEVICE, ds, cm,  batch=2048, epochs=100, lr=0.00001,\n",
    "              checkpoint_file='cell_model_{}_{}_{}_{}_{}'.format(4,16,1024,2,1024))"
   ]
  },
  {
   "cell_type": "markdown",
   "metadata": {},
   "source": [
    "## Graph Cellular Automata"
   ]
  },
  {
   "cell_type": "markdown",
   "metadata": {},
   "source": [
    "### GCA"
   ]
  },
  {
   "cell_type": "code",
   "execution_count": null,
   "metadata": {
    "id": "s0M7431LLJlw"
   },
   "outputs": [],
   "source": [
    "def get_timestamp(start_ts, increment_type, increment):\n",
    "  days = increment if increment_type == 'days' else 0\n",
    "  seconds = increment if increment_type == 'seconds' else 0\n",
    "  microseconds = increment if increment_type == 'microseconds' else 0\n",
    "  milliseconds = increment if increment_type == 'milliseconds' else 0\n",
    "  minutes = increment if increment_type == 'minutes' else 0\n",
    "  hours = increment if increment_type == 'hours' else 0\n",
    "  weeks = increment if increment_type == 'weeks' else 0\n",
    "  delta = timedelta(days=days, seconds=seconds, microseconds=microseconds, \n",
    "                    milliseconds=milliseconds, minutes=minutes, hours=hours, weeks=weeks) \n",
    "  return start_ts + delta\n",
    "\n",
    "def timestamp_generator(start_ts, iterations, increment_type='minutes', step=1):\n",
    "  for i in range(0, iterations, step):\n",
    "    yield get_timestamp(start_ts, increment_type, i)\n",
    "\n",
    "class GraphCellularAutomata(nn.Module):\n",
    "  def __init__(self, **kwargs):\n",
    "    super().__init__()\n",
    "\n",
    "    self.device = kwargs.get('device','cpu')\n",
    "    self.dtype = kwargs.get('dtype',torch.float32)\n",
    "\n",
    "    self.graph : nx.Graph = kwargs.get('graph',None)\n",
    "\n",
    "    self.nodes : list = sorted([k for k in self.graph.nodes()])\n",
    "\n",
    "    self.num_nodes = len(self.nodes)\n",
    "    self.max_length = kwargs.get('max_length',None)\n",
    "    self.token_size = kwargs.get('token_size',None)\n",
    "\n",
    "    self.tokenizer : NeighborhoodTokenizer  = kwargs.get('tokenizer',None)\n",
    "\n",
    "    self.tokenizer.graph = self.graph\n",
    "\n",
    "    self.cell_model : nn.Module = kwargs.get('cell_model',None)\n",
    "\n",
    "  def build_state(self, date, states) -> TensorDict:\n",
    "    state = {'timestamp': date}\n",
    "    for ix, node in enumerate(self.nodes):\n",
    "      state[str(node)] = states[ix]\n",
    "    return TensorDict(state)\n",
    "\n",
    "  # For fine-tunning\n",
    "  def forward(self, sequences, **kwargs):\n",
    "    return self.cell_model.forward(sequences)\n",
    "  \n",
    "  def step(self, timestamp, current_state):\n",
    "    tokens = torch.empty(self.num_nodes, self.max_length, self.token_size, dtype=self.dtype, device=self.device)\n",
    "    for ix, node in enumerate(self.nodes):\n",
    "      tokens[ix, :, :] = self.tokenizer.tokenize(timestamp, current_state, node)\n",
    "    return self.forward(tokens) \n",
    "  \n",
    "  def run(self, initial_date, initial_state, iterations, increment_type='minute', increment=1, **kwargs) -> torch.Tensor:\n",
    "    return_type = kwargs.get('return_type','tensordict')\n",
    "    current_state = TensorDict(initial_state)\n",
    "    if return_type == 'tensordict':\n",
    "      state_history = []\n",
    "    else:\n",
    "      state_history = torch.zeros(self.num_nodes * iterations, dtype=self.dtype, device=self.device)\n",
    "    for ix, ts in enumerate(timestamp_generator(initial_date, iterations, increment_type, increment), start=1):\n",
    "      result = self.step(ts, current_state)\n",
    "      new_state = self.build_state(ts, result) \n",
    "      current_state = new_state\n",
    "\n",
    "      if return_type == 'tensordict':\n",
    "        state_history.append(new_state)\n",
    "      else:\n",
    "        state_history[self.num_nodes * (ix-1) : self.num_nodes * ix] = result\n",
    "\n",
    "    return state_history\n",
    "  \n",
    "  def to(self, *args, **kwargs):\n",
    "    self = super().to(*args, **kwargs)\n",
    "    if isinstance(args[0], str):\n",
    "      self.device = args[0]\n",
    "    else:\n",
    "      self.dtype = args[0]\n",
    "    self.tokenizer = self.tokenizer.to(*args, **kwargs)\n",
    "    self.cell_model = self.cell_model.to(*args, **kwargs)\n",
    "    return self\n",
    "\n",
    "  def train(self, *args, **kwargs):\n",
    "    super().train(*args, **kwargs)\n",
    "    self.cell_model = self.cell_model.train(*args, **kwargs)\n",
    "    return self\n",
    "  \n",
    "  def parameters(self, recurse: bool = True):\n",
    "    return self.cell_model.parameters(recurse)\n",
    "\n",
    "    "
   ]
  },
  {
   "cell_type": "markdown",
   "metadata": {},
   "source": [
    "### FineTunning"
   ]
  },
  {
   "cell_type": "markdown",
   "metadata": {},
   "source": [
    "### Dataset"
   ]
  },
  {
   "cell_type": "code",
   "execution_count": null,
   "metadata": {},
   "outputs": [],
   "source": [
    "class FineTunningDataset(Dataset):\n",
    "  def __init__(self, pems, sensors, **kwargs):\n",
    "    super().__init__()\n",
    "\n",
    "    self.pems = pems\n",
    "    self.sensors = sensors\n",
    "    self.num_nodes = len(sensors)\n",
    "    self.increment_type = kwargs.get('increment_type','minute')\n",
    "    self.increment = kwargs.get('increment',1)\n",
    "    self.steps_ahead = kwargs.get('steps_ahead',10)\n",
    "\n",
    "  def __getitem__(self, date):\n",
    "    if isinstance(date, datetime):\n",
    "      dt1 = from_datetime_to_np(date)\n",
    "      dt2 = from_datetime_to_np(get_timestamp(date, self.increment_type, self.increment))\n",
    "    elif isinstance(date, np.datetime64):\n",
    "      dt1 = date\n",
    "      dt2 = from_datetime_to_np(get_timestamp(from_np_to_datetime(date), self.increment_type, self.increment))\n",
    "\n",
    "    X = {'timestamp': dt1}\n",
    "    df1 = self.pems.data[(self.pems.data['timestamp'] == dt1)]\n",
    "    for ix, node in enumerate(self.sensors):\n",
    "      X[str(node)] = df1[str(node)].values[0]\n",
    "\n",
    "    y = torch.zeros(self.num_nodes * self.steps_ahead, dtype=self.pems.dtype, device=self.pems.device)\n",
    "\n",
    "    for ct in range(0,self.steps_ahead):\n",
    "      dt2 = from_datetime_to_np(get_timestamp(from_np_to_datetime(date), self.increment_type, self.increment))\n",
    "      df2 = self.pems.data[(self.pems.data['timestamp'] == dt2)]\n",
    "\n",
    "      for ix, node in enumerate(self.sensors):\n",
    "        y[ct * self.num_nodes + ix] = df2[str(node)].values[0]\n",
    "\n",
    "      date = from_np_to_datetime(dt2)\n",
    "     \n",
    "    return X,y\n",
    "\n",
    "  def __len__(self):\n",
    "    return self.pems.num_samples\n",
    "\n",
    "  def __iter__(self):\n",
    "    for date in self.pems.data['timestamp']:\n",
    "      yield self[date]\n",
    "\n",
    "  def to(self, *args, **kwargs):\n",
    "    if isinstance(args[0], str):\n",
    "      self.device = args[0]\n",
    "    else:\n",
    "      self.dtype = args[0]\n",
    "    self.pems = self.pems.to(*args, **kwargs)\n",
    "    return self"
   ]
  },
  {
   "cell_type": "markdown",
   "metadata": {},
   "source": [
    "### Finetunning Loop"
   ]
  },
  {
   "cell_type": "code",
   "execution_count": null,
   "metadata": {},
   "outputs": [],
   "source": [
    "def fine_tune(model, dataset, **kwargs):\n",
    "    loss = nn.MSELoss()\n",
    "    lr = kwargs.get('lr',0.001)\n",
    "    epochs = kwargs.get('epochs', None)\n",
    "    dataset = kwargs.get('dataset', None)\n",
    "    batch = kwargs.get('batch', 256)\n",
    "    optimizer = optim.Adam(self.cell_model.parameters(), lr = lr)\n",
    "    current_state = TensorDict(initial_state)\n",
    "    state_history = []\n",
    "    losses = []\n",
    "    for ts in timestamp_generator(initial_date, iterations, increment_type, increment):\n",
    "        result = self.step(ts, current_state)\n",
    "\n",
    "    return state_history"
   ]
  },
  {
   "cell_type": "markdown",
   "metadata": {},
   "source": [
    "### Experiments"
   ]
  },
  {
   "cell_type": "code",
   "execution_count": 55,
   "metadata": {},
   "outputs": [
    {
     "name": "stdout",
     "output_type": "stream",
     "text": [
      "{'313190': 24.0, '314697': 68.0, '314730': 60.0, '314698': 26.0, '313166': 22.0, '315827': 6.0, '313172': 27.0, '315828': 0.0, '315830': 25.0, '315831': 25.0}\n",
      "tensor([[ 71.3329],\n",
      "        [173.2419],\n",
      "        [106.1022],\n",
      "        [ 51.2456],\n",
      "        [ 94.7038],\n",
      "        [105.5363],\n",
      "        [ 61.9104],\n",
      "        [185.8214],\n",
      "        [ 68.8892],\n",
      "        [ 87.6868]], grad_fn=<GeluBackward0>)\n",
      "tensor([[ 71.8067],\n",
      "        [ 64.8436],\n",
      "        [ 51.8746],\n",
      "        [ 94.0661],\n",
      "        [ 40.2647],\n",
      "        [171.8164],\n",
      "        [ 42.4658],\n",
      "        [115.5831],\n",
      "        [ 33.0372],\n",
      "        [ 91.8894]], grad_fn=<GeluBackward0>)\n"
     ]
    },
    {
     "name": "stderr",
     "output_type": "stream",
     "text": [
      "C:\\Users\\petro\\AppData\\Local\\Temp\\ipykernel_28564\\2097255585.py:11: DeprecationWarning: parsing timezone aware datetimes is deprecated; this will raise an error in the future\n",
      "  return np.datetime64(date.astimezone(timezone.utc))\n"
     ]
    },
    {
     "data": {
      "text/plain": [
       "[TensorDict(\n",
       "     fields={\n",
       "         313166: Tensor(shape=torch.Size([1]), device=cpu, dtype=torch.float32, is_shared=False),\n",
       "         313172: Tensor(shape=torch.Size([1]), device=cpu, dtype=torch.float32, is_shared=False),\n",
       "         313190: Tensor(shape=torch.Size([1]), device=cpu, dtype=torch.float32, is_shared=False),\n",
       "         314697: Tensor(shape=torch.Size([1]), device=cpu, dtype=torch.float32, is_shared=False),\n",
       "         314698: Tensor(shape=torch.Size([1]), device=cpu, dtype=torch.float32, is_shared=False),\n",
       "         314730: Tensor(shape=torch.Size([1]), device=cpu, dtype=torch.float32, is_shared=False),\n",
       "         315827: Tensor(shape=torch.Size([1]), device=cpu, dtype=torch.float32, is_shared=False),\n",
       "         315828: Tensor(shape=torch.Size([1]), device=cpu, dtype=torch.float32, is_shared=False),\n",
       "         315830: Tensor(shape=torch.Size([1]), device=cpu, dtype=torch.float32, is_shared=False),\n",
       "         315831: Tensor(shape=torch.Size([1]), device=cpu, dtype=torch.float32, is_shared=False),\n",
       "         timestamp: NonTensorData(data=2018-09-01 23:00:00, batch_size=torch.Size([]), device=None)},\n",
       "     batch_size=torch.Size([]),\n",
       "     device=None,\n",
       "     is_shared=False),\n",
       " TensorDict(\n",
       "     fields={\n",
       "         313166: Tensor(shape=torch.Size([1]), device=cpu, dtype=torch.float32, is_shared=False),\n",
       "         313172: Tensor(shape=torch.Size([1]), device=cpu, dtype=torch.float32, is_shared=False),\n",
       "         313190: Tensor(shape=torch.Size([1]), device=cpu, dtype=torch.float32, is_shared=False),\n",
       "         314697: Tensor(shape=torch.Size([1]), device=cpu, dtype=torch.float32, is_shared=False),\n",
       "         314698: Tensor(shape=torch.Size([1]), device=cpu, dtype=torch.float32, is_shared=False),\n",
       "         314730: Tensor(shape=torch.Size([1]), device=cpu, dtype=torch.float32, is_shared=False),\n",
       "         315827: Tensor(shape=torch.Size([1]), device=cpu, dtype=torch.float32, is_shared=False),\n",
       "         315828: Tensor(shape=torch.Size([1]), device=cpu, dtype=torch.float32, is_shared=False),\n",
       "         315830: Tensor(shape=torch.Size([1]), device=cpu, dtype=torch.float32, is_shared=False),\n",
       "         315831: Tensor(shape=torch.Size([1]), device=cpu, dtype=torch.float32, is_shared=False),\n",
       "         timestamp: NonTensorData(data=2018-09-01 23:00:00, batch_size=torch.Size([]), device=None)},\n",
       "     batch_size=torch.Size([]),\n",
       "     device=None,\n",
       "     is_shared=False)]"
      ]
     },
     "execution_count": 55,
     "metadata": {},
     "output_type": "execute_result"
    }
   ],
   "source": [
    "ds, sensors = pems.get_breadth_dataset(314697, max_sensors=20, \n",
    "                                       dtype=torch.float64,\n",
    "                                       behavior='deterministic')\n",
    "\n",
    "cm = CellModel(num_tokens = ds.max_length, dim_token = ds.token_dim,\n",
    "               num_transformers = 2, num_heads = 4, feed_forward = 256, transformer_activation = nn.GELU(),\n",
    "               mlp = 2, mlp_dim = 256, mlp_activation = nn.GELU(),\n",
    "               device = DEVICE, dtype = torch.float32)\n",
    "\n",
    "resume(cm,'cell_model_{}_{}_{}_{}_{}'.format(2,4,256,2,256))\n",
    "\n",
    "subgraph = pems.G.subgraph(sensors)\n",
    "\n",
    "gca = GraphCellularAutomata(device=cm.device, dtype=cm.dtype, graph = subgraph,\n",
    "                            max_length = pems.max_length, token_size=pems.token_dim,\n",
    "                            tokenizer=pems.tokenizer, cell_model = cm)\n",
    "\n",
    "dt = datetime(year=2018, month=9, day=1, hour=23, minute=0)\n",
    "\n",
    "df = pems.data[(pems.data['timestamp'] == from_datetime_to_np(dt))]\n",
    "\n",
    "initial_state = {}\n",
    "for sensor in subgraph.nodes():\n",
    "    initial_state[str(sensor)] = df[str(sensor)].values[0]\n",
    "\n",
    "print(initial_state)\n",
    "\n",
    "gca.run(dt, initial_state, 10, 'minute', 5)\n",
    "\n"
   ]
  },
  {
   "cell_type": "code",
   "execution_count": null,
   "metadata": {},
   "outputs": [],
   "source": []
  }
 ],
 "metadata": {
  "accelerator": "GPU",
  "colab": {
   "gpuType": "T4",
   "provenance": [],
   "toc_visible": true
  },
  "kernelspec": {
   "display_name": "Python 3",
   "name": "python3"
  },
  "language_info": {
   "codemirror_mode": {
    "name": "ipython",
    "version": 3
   },
   "file_extension": ".py",
   "mimetype": "text/x-python",
   "name": "python",
   "nbconvert_exporter": "python",
   "pygments_lexer": "ipython3",
   "version": "3.10.11"
  }
 },
 "nbformat": 4,
 "nbformat_minor": 0
}
