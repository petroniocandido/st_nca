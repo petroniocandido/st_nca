{
 "cells": [
  {
   "cell_type": "markdown",
   "metadata": {
    "id": "w9lC5_9Nj5TR"
   },
   "source": [
    "# Spatio-Temporal Traffic Forecasting with Neural Graph Cellular Automata\n",
    "Petrônio C.  L. Silva  <span itemscope itemtype=\"https://schema.org/Person\"><a itemprop=\"sameAs\" content=\"https://orcid.org/0000-0002-1202-2552\" href=\"https://orcid.org/0000-0002-1202-2552\" target=\"orcid.widget\" rel=\"noopener noreferrer\" style=\"vertical-align:top;\"><img src=\"https://orcid.org/sites/default/files/images/orcid_16x16.png\" style=\"width:1em;margin-right:.5em;\" alt=\"ORCID iD icon\"></a></span>, Omid Orang  <span itemscope itemtype=\"https://schema.org/Person\"><a itemprop=\"sameAs\" content=\"https://orcid.org/0000-0002-4077-3775\" href=\"https://orcid.org/0000-0002-4077-3775\" target=\"orcid.widget\" rel=\"noopener noreferrer\" style=\"vertical-align:top;\"><img src=\"https://orcid.org/sites/default/files/images/orcid_16x16.png\" style=\"width:1em;margin-right:.5em;\" alt=\"ORCID iD icon\"></a></span>, Lucas Astore, Frederico G. Guimarães <span itemscope itemtype=\"https://schema.org/Person\"><a itemprop=\"sameAs\" content=\"https://orcid.org/0000-0001-9238-8839\" href=\"https://orcid.org/0000-0001-9238-8839\" target=\"orcid.widget\" rel=\"noopener noreferrer\" style=\"vertical-align:top;\"><img src=\"https://orcid.org/sites/default/files/images/orcid_16x16.png\" style=\"width:1em;margin-right:.5em;\" alt=\"ORCID iD icon\"></a></span>\n",
    "\n",
    "In case you have any questions, do not hesitate in contact us using the following e-mail: petronio.candido@ifnmg.edu.br\n"
   ]
  },
  {
   "cell_type": "markdown",
   "metadata": {
    "id": "Q7fAHH9MOdwF"
   },
   "source": [
    "## Imports"
   ]
  },
  {
   "cell_type": "code",
   "execution_count": 1,
   "metadata": {
    "id": "0xEnrvA5OdwI"
   },
   "outputs": [],
   "source": [
    "from datetime import datetime\n",
    "import numpy as np\n",
    "import pandas as pd\n",
    "import matplotlib.pyplot as plt\n",
    "import networkx as nx\n",
    "\n",
    "from sklearn.preprocessing import StandardScaler\n",
    "from sklearn.manifold import SpectralEmbedding\n",
    "\n",
    "import torch\n",
    "from torch import nn, optim\n",
    "from torch.nn import functional as F\n",
    "from torch.utils.data import Dataset, DataLoader"
   ]
  },
  {
   "cell_type": "code",
   "execution_count": null,
   "metadata": {
    "colab": {
     "base_uri": "https://localhost:8080/"
    },
    "id": "A66vuoyYa8jV",
    "outputId": "bf6d46ff-2a02-4737-e767-c7c471da3b04"
   },
   "outputs": [],
   "source": [
    "!pip install torchmetrics"
   ]
  },
  {
   "cell_type": "code",
   "execution_count": null,
   "metadata": {
    "colab": {
     "base_uri": "https://localhost:8080/"
    },
    "id": "LxF10ZfzOjUL",
    "outputId": "e651433b-f198-4561-fcfd-776b35bd84d3"
   },
   "outputs": [],
   "source": [
    "from google.colab import drive\n",
    "\n",
    "drive.mount('/content/gdrive')"
   ]
  },
  {
   "cell_type": "markdown",
   "metadata": {
    "id": "PqNvqlgxVkCK"
   },
   "source": [
    "## Data"
   ]
  },
  {
   "cell_type": "markdown",
   "metadata": {
    "id": "u_XNIsOiOdwY"
   },
   "source": [
    "### PEMS03 Class"
   ]
  },
  {
   "cell_type": "code",
   "execution_count": 2,
   "metadata": {
    "id": "6YNjhWAaOdwY"
   },
   "outputs": [],
   "source": [
    "class PEMS03:\n",
    "\n",
    "    def __init__(self,**kwargs):\n",
    "\n",
    "      self.NULL_SYMBOL = -99\n",
    "\n",
    "      edges = pd.read_csv(kwargs.get('edges_file',edges_file))\n",
    "      nodes = pd.read_csv(kwargs.get('nodes_file',nodes_file))\n",
    "      self.data = pd.read_csv(kwargs.get('data_file',data_file))\n",
    "      self.data['timestamp']= pd.to_datetime(self.data['timestamp'].values, format='%m/%d/%Y %H:%M')\n",
    "\n",
    "\n",
    "      # The average value (mu) and its standard deviation (sigma) for data normalization\n",
    "      self.mu = np.mean(self.data[self.data.columns[1:]].values)\n",
    "      self.sigma = np.std(self.data[self.data.columns[1:]].values)\n",
    "\n",
    "      # Create the graph\n",
    "      self.G=nx.Graph()\n",
    "      for row in edges.iterrows():\n",
    "        self.G.add_edge(int(row[1]['source']),int(row[1]['target']), weight=row[1]['weight'])\n",
    "\n",
    "      del(edges)\n",
    "\n",
    "      # The maximum sequence length is equal to the maximum graph degree, or the\n",
    "      # maximum number of neighbors a node have in the graph\n",
    "      self.max_length = max([d for n, d in self.G.degree()]) + 1\n",
    "\n",
    "      # precompute and store all node embeddings to save processing\n",
    "      self.node_embeddings = {}\n",
    "\n",
    "      graph_embedding = self.laplacian_eigenmaps(2)\n",
    "\n",
    "      lat_max, lat_min = np.max(nodes['lat'].values), np.min(nodes['lat'].values)\n",
    "      lat_rng = lat_max - lat_min\n",
    "      lon_max, lon_min = np.max(nodes['long'].values), np.min(nodes['long'].values)\n",
    "      lon_rng = lon_max - lon_min\n",
    "\n",
    "      self.sensor_indexes = {}\n",
    "      self.inverse_sensor_indexes = {}\n",
    "\n",
    "      for ix, node in enumerate(self.G.nodes()):\n",
    "\n",
    "        self.sensor_indexes[node] = ix\n",
    "        self.inverse_sensor_indexes[ix] = node\n",
    "\n",
    "        emb = np.zeros(4)\n",
    "\n",
    "        emb[:2] = graph_embedding[ix,:]\n",
    "\n",
    "        _, lat, lon = nodes[nodes['sensor'] == node].values[0]\n",
    "\n",
    "        emb[2:] = self.spatial_embedding(lat, lon, method='polar')\n",
    "        #emb[2] = np.sin((((lat - lat_min) - (lat_rng/2)) / lat_rng) * 2 * np.pi)\n",
    "        #emb[3] = np.sin((((lon - lon_min) - (lon_rng/2)) / lon_rng) * 2 * np.pi)\n",
    "\n",
    "        self.node_embeddings[node] = emb\n",
    "\n",
    "      # precompute and store all time embeddings to save processing\n",
    "      self.time_embeddings = []\n",
    "      for dt in self.data['timestamp']:\n",
    "          dt = datetime(dt.year, dt.month, dt.day, dt.hour, dt.minute)\n",
    "          we = self.week_embedding(dt)\n",
    "          me = self.minute_embedding(dt)\n",
    "          self.time_embeddings.append([we,me])\n",
    "\n",
    "      self.time_embeddings = np.array(self.time_embeddings)\n",
    "\n",
    "      self.num_sensors = len(nodes)\n",
    "\n",
    "      del(nodes)\n",
    "\n",
    "      self.num_samples = len(self.time_embeddings)\n",
    "      self.token_dim = 7\n",
    "\n",
    "      self.value_index = 4\n",
    "\n",
    "    # Z-Transform preprocessing\n",
    "    def normalized_data(self, sensor):\n",
    "      return (self.data[str(sensor)].values - self.mu) / self.sigma\n",
    "\n",
    "    def normalized_sample(self, sensor, index):\n",
    "      return (self.data[str(sensor)].values[index] - self.mu) / self.sigma\n",
    "\n",
    "    def week_embedding(self, date):\n",
    "      day_of_week = date.isocalendar()[2]  # Day of week (1: Monday, 7: Sunday)\n",
    "      m = 7 * 1440\n",
    "      return np.sin((day_of_week * 1440 + date.hour * 60 + date.minute) / m * 2 * np.pi)\n",
    "\n",
    "    def minute_embedding(self, date):\n",
    "      minute_of_day = date.hour * 60 + date.minute\n",
    "      return np.sin((minute_of_day / 1440) * 2 * np.pi)\n",
    "\n",
    "    def laplacian_eigenmaps(self, n_components):\n",
    "      M = nx.adjacency_matrix(self.G).todense()\n",
    "      embedding = SpectralEmbedding(n_components=n_components) #, affinity='precomputed')\n",
    "      return embedding.fit_transform(M)\n",
    "\n",
    "    def spatial_embedding(self, lat, lon, method=\"sinusoidal\", max_r=np.pi):\n",
    "      if method == \"polar\":\n",
    "          # Convert latitude and longitude to radians\n",
    "          lat_rad = np.radians(lat)\n",
    "          lon_rad = np.radians(lon)\n",
    "\n",
    "          # Treat latitude as radius and longitude as angle\n",
    "          r = np.abs(lat_rad)  # Magnitude of latitude as \"radius\"\n",
    "          theta = lon_rad  # Longitude as \"angle\"\n",
    "\n",
    "          # Scale r and theta to [-1, 1]\n",
    "          r_scaled = (r / max_r) * 2 - 1  # Scale radius\n",
    "          theta_scaled = theta / np.pi  # Scale angle\n",
    "          return r_scaled, theta_scaled\n",
    "\n",
    "      elif method == \"sinusoidal\":\n",
    "          # Generate sinusoidal embeddings for latitude and longitude\n",
    "          lat_rad = np.radians(lat)\n",
    "          lon_rad = np.radians(lon)\n",
    "          sin_lat = np.sin(lat_rad)\n",
    "          #cos_lat = np.cos(lat_rad)\n",
    "          sin_lon = np.sin(lon_rad)\n",
    "          #cos_lon = np.cos(lon_rad)\n",
    "          #return sin_lat, cos_lat, sin_lon, cos_lon\n",
    "          return sin_lat, sin_lon\n",
    "      else:\n",
    "          raise ValueError(f\"Unknown method: {method}. Choose from 'polar' or 'sinusoidal'.\")\n",
    "\n",
    "    # Create an empty sequence of tokens (filled with -1)\n",
    "    # Then extracts the data for a sensor and its neighbors and fill the values\n",
    "    # in the tokens, together with the spatial and temporal embeddings\n",
    "    def tokenize_all(self, sensor):\n",
    "\n",
    "      tmp = self.normalized_data(sensor)\n",
    "      n = len(tmp)\n",
    "      tim_emb = self.time_embeddings.reshape(n,2)\n",
    "\n",
    "      tokens = np.array([self.node_embeddings[sensor]  for i in range(n)])\n",
    "      tokens = np.hstack([tokens, tmp.reshape(n,1) ])\n",
    "      tokens = np.hstack([tokens, tim_emb])\n",
    "\n",
    "      m = 1\n",
    "\n",
    "      for neighbor in self.G.neighbors(sensor):\n",
    "        m += 1\n",
    "        tokens = np.hstack([tokens, np.array([self.node_embeddings[neighbor]  for i in range(n)]).reshape(n,4)])\n",
    "        tokens = np.hstack([tokens, self.normalized_data(neighbor).reshape(n,1) ])\n",
    "        tokens = np.hstack([tokens, tim_emb])\n",
    "\n",
    "      tokens = tokens.reshape(n, m, self.token_dim)\n",
    "\n",
    "\n",
    "      tokens = np.hstack([tokens, np.full((n,  self.max_length - m, self.token_dim), self.NULL_SYMBOL)])\n",
    "\n",
    "      return tokens\n",
    "\n",
    "    def tokenize_sample(self, sensor, index):\n",
    "\n",
    "      tim_emb = self.time_embeddings[index,:]\n",
    "\n",
    "      tokens = self.node_embeddings[sensor]\n",
    "      tokens = np.hstack([tokens, self.normalized_sample(sensor, index)])\n",
    "      tokens = np.hstack([tokens, tim_emb])\n",
    "\n",
    "      m = 1\n",
    "\n",
    "      for neighbor in self.G.neighbors(sensor):\n",
    "        m += 1\n",
    "        tokens = np.hstack([tokens, self.node_embeddings[neighbor]])\n",
    "        tokens = np.hstack([tokens, self.normalized_sample(neighbor, index)])\n",
    "        tokens = np.hstack([tokens, tim_emb])\n",
    "\n",
    "      tokens = tokens.reshape(1, m, self.token_dim)\n",
    "\n",
    "      tokens = np.hstack([tokens, np.full((1, self.max_length - m, self.token_dim), self.NULL_SYMBOL)])\n",
    "\n",
    "      return tokens.reshape(self.max_length, self.token_dim)\n",
    "\n",
    "    # Will returna a SensorDataset filled with the sensor & neighbors preprocessed data (X)\n",
    "    # and the expected values for t+y (y)\n",
    "    def get_sensor_dataset(self, sensor, train = 0.7, dtype = torch.float64, **kwargs):\n",
    "      X = self.tokenize_all(sensor)[:-1]\n",
    "      y = self.data[str(sensor)].values[1:]\n",
    "      return SensorDataset(str(sensor),X,y, train, dtype, num_features = self.num_sensors,\n",
    "                           max_length=self.max_length, token_dim=self.token_dim,\n",
    "                           value_index=self.value_index, **kwargs)\n",
    "\n",
    "    def get_fewsensors_dataset(self, sensors, train = 0.7, dtype = torch.float64, **kwargs):\n",
    "      X = None\n",
    "      y = None\n",
    "      try:\n",
    "        for sensor in sensors:\n",
    "          tmpX = self.tokenize_all(sensor)[:-1]\n",
    "          tmpy = self.data[str(sensor)].values[1:]\n",
    "          if X is None:\n",
    "            X = tmpX\n",
    "            y = tmpy\n",
    "          else:\n",
    "            X = np.vstack((X,tmpX))\n",
    "            y = np.hstack((y,tmpy))\n",
    "      except Exception as ex:\n",
    "        print(sensor, str(ex))\n",
    "\n",
    "      return SensorDataset('FEW',X,y,train, dtype, num_features = self.num_sensors,\n",
    "                           max_length=self.max_length, token_dim=self.token_dim,\n",
    "                           value_index=self.value_index, **kwargs)\n",
    "\n",
    "    def get_allsensor_dataset(self, train = 0.7, dtype = torch.float64, **kwargs):\n",
    "     return AllSensorDataset(self, train, dtype, **kwargs)\n",
    "    \n",
    "    def get_breadth_dataset(self, start_sensor, max_sensors = 20, train = 0.7, dtype = torch.float64, **kwargs):\n",
    "      sensors = []\n",
    "      next = [start_sensor]\n",
    "      m = 0\n",
    "      while m < max_sensors:\n",
    "        for sensor in next:\n",
    "          sensors.append(sensor)\n",
    "          m += 1\n",
    "          next.remove(sensor)\n",
    "          if m < max_sensors:\n",
    "            for neighbor in self.G.neighbors(sensor):\n",
    "              next.append(neighbor)\n",
    "          else:\n",
    "            break\n",
    "\n",
    "      return self.get_fewsensors_dataset(sensors, train = train, dtype = dtype, **kwargs), sensors\n",
    "\n",
    "    def plot_embeddings(self, limit=5000):\n",
    "      pos_latlon = nx.circular_layout(self.G)\n",
    "      pos_graph = nx.circular_layout(self.G)\n",
    "      lat_max, lat_min = -np.inf, np.inf\n",
    "      lon_max, lon_min = -np.inf, np.inf\n",
    "\n",
    "      graph1_max, graph1_min = -np.inf, np.inf\n",
    "      graph2_max, graph2_min = -np.inf, np.inf\n",
    "\n",
    "      for node in self.G.nodes():\n",
    "          emb = self.node_embeddings[node]\n",
    "          pos_graph[node] = emb[0:2]\n",
    "          pos_latlon[node] = emb[2:4]\n",
    "\n",
    "          lat_max, lat_min = max(lat_max, pos_latlon[node][0]), min(lat_min, pos_latlon[node][0])\n",
    "          lon_max, lon_min = max(lon_max, pos_latlon[node][1]), min(lon_min, pos_latlon[node][1])\n",
    "\n",
    "          graph1_max, graph1_min = max(graph1_max, pos_graph[node][0]), min(graph1_min, pos_graph[node][0])\n",
    "          graph2_max, graph2_min = max(graph2_max, pos_graph[node][1]), min(graph2_min, pos_graph[node][1])\n",
    "\n",
    "      fig, ax = plt.subplots(1, 3, figsize=(15,5))\n",
    "      nx.draw(self.G, pos_latlon, node_size=25, ax=ax[0], hide_ticks=False)\n",
    "      ax[0].set_xlim([lat_min, lat_max])\n",
    "      ax[0].set_ylim([lon_min, lon_max])\n",
    "      xticks = [k for k in np.linspace(lat_min, lat_max, 5)]\n",
    "      ax[0].set_xticks(xticks, [str(k) for k in xticks])\n",
    "      yticks = [k for k in np.linspace(lon_min, lon_max, 5)]\n",
    "      ax[0].set_yticks(yticks, [str(k) for k in yticks])\n",
    "      ax[0].tick_params(labelleft=True)\n",
    "\n",
    "      nx.draw(self.G, pos_graph, node_size=25, ax=ax[1], hide_ticks=False)\n",
    "      ax[1].set_xlim([graph1_min, graph1_max])\n",
    "      ax[1].set_ylim([graph2_min, graph2_max])\n",
    "\n",
    "      ax[2].plot(self.time_embeddings[:limit, 0], color='red', label='Weekly seasonality')\n",
    "      ax[2].plot(self.time_embeddings[:limit, 1], color='blue', label='Hourly seasonality')\n",
    "      #ax[2].legend(loc='upper right')\n",
    "      #limits = plt.axis(\"on\")  # turn off axis\n",
    "      plt.show()\n",
    "      #plt.show()\n",
    "\n",
    "\n",
    "base = 'C:\\\\Users\\\\petro\\\\Dropbox\\\\Projetos\\\\futurelab\\\\posdoc\\\\st_nca\\\\'\n",
    "\n",
    "edges_file = base + 'PEMS03.csv'\n",
    "nodes_file = base + 'pems03_preprocessed.csv'\n",
    "data_file = base + 'PEMS03_data_THIS_ONE.csv'\n",
    "\n",
    "pems=PEMS03(edges_file=edges_file, nodes_file=nodes_file, data_file=data_file)"
   ]
  },
  {
   "cell_type": "markdown",
   "metadata": {
    "id": "dwBMKodlsdVG"
   },
   "source": [
    "### Sensor Dataset"
   ]
  },
  {
   "cell_type": "code",
   "execution_count": 3,
   "metadata": {
    "id": "Tr8FoTHcscMB"
   },
   "outputs": [],
   "source": [
    "class SensorDataset(Dataset):\n",
    "  def __init__(self, name, X, y, train = 0.7,\n",
    "               dtype = torch.float64, **kwargs):\n",
    "    super().__init__()\n",
    "\n",
    "    self.NULL_SYMBOL = -99\n",
    "\n",
    "    self.behavior = kwargs.get('behavior','deterministic')\n",
    "\n",
    "    self.num_samples = len(X)\n",
    "\n",
    "    self.num_features = kwargs.get('num_features',0)\n",
    "\n",
    "    self.max_length = kwargs.get('max_length',0)\n",
    "\n",
    "    self.token_dim = kwargs.get('token_dim',0)\n",
    "\n",
    "    self.value_index= kwargs.get('value_index',0)\n",
    "\n",
    "    self.name = name\n",
    "    self.dtype = dtype\n",
    "    self.device = kwargs.get('device','cpu')\n",
    "\n",
    "    self.X = torch.from_numpy(X).to(self.dtype).to(self.device)\n",
    "    self.y = torch.from_numpy(y).to(self.dtype).to(self.device)\n",
    "\n",
    "    self.indexes = torch.randperm(self.num_samples)\n",
    "\n",
    "    self.X = self.X[self.indexes]\n",
    "    self.y = self.y[self.indexes]\n",
    "\n",
    "    self.train_split = int(train * self.num_samples)\n",
    "    self.is_validation = False\n",
    "\n",
    "  def train(self) -> Dataset:\n",
    "    tmp = copy.deepcopy(self)\n",
    "    tmp.is_validation = False\n",
    "    tmp.X = self.X[:self.train_split].to(self.device)\n",
    "    tmp.y = self.y[:self.train_split].to(self.device)\n",
    "    tmp.num_samples = tmp.X.size(0)\n",
    "    return tmp\n",
    "\n",
    "  def test(self) -> Dataset:\n",
    "    tmp = copy.deepcopy(self)\n",
    "    tmp.is_validation = True\n",
    "    tmp.X = self.X[self.train_split:].to(self.device)\n",
    "    tmp.y = self.y[self.train_split:].to(self.device)\n",
    "    tmp.num_samples = tmp.X.size(0)\n",
    "    return tmp\n",
    "\n",
    "  # Make this function stochastic!\n",
    "  # Sometimes X will return the full information,sometimes X will miss some part of the information,\n",
    "  # and sometimes will return with corrupted information (add noise)\n",
    "  def __getitem__(self, index):\n",
    "    if self.behavior == 'deterministic':\n",
    "      return self.X[index], self.y[index]\n",
    "    else:\n",
    "      x = torch.clone(self.X[index])\n",
    "      r = np.random.rand()\n",
    "      if r >= .7:\n",
    "        x[0,self.value_index] = torch.tensor([self.NULL_SYMBOL], dtype = self.dtype, device=self.device)\n",
    "        #x[1:,:] = torch.full((self.max_length-1, self.token_dim),self.NULL_SYMBOL, dtype = self.dtype)\n",
    "      elif r >= .5:\n",
    "        x[1:,:] = torch.full((self.max_length-1, self.token_dim),self.NULL_SYMBOL, dtype = self.dtype, device=self.device)\n",
    "      elif r >= .35:\n",
    "        x[:,self.value_index] = x[:,self.value_index] + torch.randn(self.max_length, dtype = self.dtype, device=self.device)/12\n",
    "\n",
    "      return x, self.y[index]\n",
    "\n",
    "  def __len__(self):\n",
    "    return self.num_samples\n",
    "\n",
    "  def __iter__(self):\n",
    "    for ix in range(self.num_samples):\n",
    "      yield self[ix]\n",
    "\n",
    "  def __str__(self):\n",
    "    return \"Dataset {}: {} attributes {} samples\".format(self.name, self.num_attributes, self.num_samples)\n",
    "  \n",
    "  def to(self, *args, **kwargs):\n",
    "    if isinstance(args[0], str):\n",
    "      self.device = args[0]\n",
    "    else:\n",
    "      self.dtype = args[0]\n",
    "    self.X = self.X.to(*args, **kwargs)\n",
    "    self.y = self.y.to(*args, **kwargs)\n",
    "    return self"
   ]
  },
  {
   "cell_type": "code",
   "execution_count": 4,
   "metadata": {
    "id": "HhfnBkmBqhYp"
   },
   "outputs": [],
   "source": [
    "class AllSensorDataset(Dataset):\n",
    "  def __init__(self, pems, train = 0.7,\n",
    "               dtype = torch.float64, **kwargs):\n",
    "    super().__init__()\n",
    "\n",
    "    self.pems = pems\n",
    "\n",
    "    self.behavior = kwargs.get('behavior','deterministic')\n",
    "\n",
    "    self.offset = kwargs.get('offset',0)\n",
    "    self.samples = kwargs.get('samples',pems.num_samples * pems.num_sensors)\n",
    "\n",
    "\n",
    "    self.dtype = dtype\n",
    "\n",
    "    self.indexes = torch.randperm(self.samples) + self.offset\n",
    "\n",
    "    self.train_pct = train\n",
    "\n",
    "    self.train_split = int(train * self.samples)\n",
    "    self.is_validation = False\n",
    "\n",
    "  def train(self) -> Dataset:\n",
    "    tmp = AllSensorDataset(self.pems, train_split = self.train_pct, dtype=self.dtype, offset = 0, samples = self.train_split)\n",
    "    tmp.is_validation = False\n",
    "    return tmp\n",
    "\n",
    "  def test(self) -> Dataset:\n",
    "    tmp = AllSensorDataset(self.pems, train_split = self.train_pct, dtype=self.dtype, offset = self.train_split, samples = (self.pems.num_samples * self.pems.num_sensors) - self.train_split)\n",
    "    tmp.is_validation = True\n",
    "    return tmp\n",
    "\n",
    "  def __getitem__(self, index):\n",
    "    #print(index)\n",
    "    new_ix = self.indexes[index].item()\n",
    "    #new_ix = index\n",
    "    #print(new_ix)\n",
    "    sensor = self.pems.inverse_sensor_indexes[ new_ix // self.pems.num_samples ]\n",
    "    sensor_ix = new_ix % self.pems.num_samples\n",
    "    x = self.pems.tokenize_sample(sensor, sensor_ix )\n",
    "    y = self.pems.data[str(sensor)].values[sensor_ix+ 1] if sensor_ix < self.pems.num_samples - 1 else self.pems.data[str(sensor)].values[sensor_ix]\n",
    "    x = torch.from_numpy(np.array([x])).to(self.dtype).squeeze()\n",
    "    y = torch.from_numpy(np.array([y])).to(self.dtype)\n",
    "    if self.behavior == 'deterministic':\n",
    "      return x, y\n",
    "    else:\n",
    "      x = self.X[index]\n",
    "      r = np.random.rand()\n",
    "      if r >= .7:\n",
    "        x[self.pems.value_index] = torch.tensor([self.pems.NULL_SYMBOL], dtype = self.dtype)\n",
    "        x[1:] = torch.full((self.pems.max_length-1, self.pems.token_dim),self.pems.NULL_SYMBOL, dtype = self.dtype)\n",
    "      elif r >= .5:\n",
    "        x[1:] = torch.full((self.pems.max_length-1, self.pems.token_dim),self.pems.NULL_SYMBOL, dtype = self.dtype)\n",
    "      elif r >= .3:\n",
    "        x[self.pems.value_index] = x[self.pems.value_index] + torch.randn(self.pems.max_length, dtype = self.dtype)\n",
    "\n",
    "      return x, y\n",
    "\n",
    "  def __len__(self):\n",
    "    return self.samples\n",
    "\n",
    "  def __iter__(self):\n",
    "    for ix in range(self.samples):\n",
    "      yield self[ix]\n",
    "\n",
    "  def __str__(self):\n",
    "    return \"Dataset {}: {} attributes {} samples\".format(self.name, self.num_attributes, self.num_samples)"
   ]
  },
  {
   "cell_type": "markdown",
   "metadata": {
    "id": "HI0kAT4-Whyz"
   },
   "source": [
    "### PEMS03 Tests"
   ]
  },
  {
   "cell_type": "code",
   "execution_count": null,
   "metadata": {
    "colab": {
     "base_uri": "https://localhost:8080/"
    },
    "id": "c9HYrF6IRs_K",
    "outputId": "dc9eb1e7-f5f8-4706-b532-eab5f5dccbc2"
   },
   "outputs": [],
   "source": [
    "ds = pems.get_fewsensors_dataset([314697, 315938, 312900], dtype=torch.float32)\n",
    "ds[0]"
   ]
  },
  {
   "cell_type": "code",
   "execution_count": null,
   "metadata": {
    "colab": {
     "base_uri": "https://localhost:8080/"
    },
    "id": "n8FwMFI5ohXV",
    "outputId": "0ed267e4-92a7-4565-b4d4-e8652f67193c"
   },
   "outputs": [],
   "source": [
    "ds = pems.get_allsensor_dataset()\n",
    "\n",
    "print(ds.train()[150][0].shape)\n",
    "print(ds.test()[150][0].shape)"
   ]
  },
  {
   "cell_type": "code",
   "execution_count": null,
   "metadata": {
    "colab": {
     "base_uri": "https://localhost:8080/",
     "height": 445
    },
    "id": "DNKWKUAqdCBO",
    "outputId": "9ce07993-15e0-45c2-a146-b29f3494e52b"
   },
   "outputs": [],
   "source": [
    "pems.plot_embeddings()\n"
   ]
  },
  {
   "cell_type": "code",
   "execution_count": null,
   "metadata": {
    "colab": {
     "base_uri": "https://localhost:8080/"
    },
    "id": "g-PPs8e3wVB-",
    "outputId": "043bd985-ca1d-4b7d-a063-b69f17733f60"
   },
   "outputs": [],
   "source": [
    "pems.sensor_indexes[312857]"
   ]
  },
  {
   "cell_type": "code",
   "execution_count": null,
   "metadata": {
    "colab": {
     "base_uri": "https://localhost:8080/"
    },
    "id": "QnRat--xlcPE",
    "outputId": "40baf7e6-c110-4da7-8dd8-1b08220a9cb7"
   },
   "outputs": [],
   "source": [
    "ds = pems.get_sensor_dataset(314697)\n",
    "ds[25]"
   ]
  },
  {
   "cell_type": "code",
   "execution_count": null,
   "metadata": {
    "colab": {
     "base_uri": "https://localhost:8080/"
    },
    "id": "6vCpMetuX4Oo",
    "outputId": "052bb392-8045-44c7-d56e-8c1cc3bf0f3e"
   },
   "outputs": [],
   "source": [
    "pems.max_length#.G[314697]"
   ]
  },
  {
   "cell_type": "markdown",
   "metadata": {
    "id": "b_tjVYZWRhJM"
   },
   "source": [
    "## Transformer Module"
   ]
  },
  {
   "cell_type": "markdown",
   "metadata": {
    "id": "LTQnFzcsUVAC"
   },
   "source": [
    "### MultiHeaded Attention"
   ]
  },
  {
   "cell_type": "code",
   "execution_count": 4,
   "metadata": {
    "id": "-LujGv1moaQ4"
   },
   "outputs": [],
   "source": [
    "#My own implementation, already tested\n",
    "#Original source:  https://github.com/petroniocandido/clshq_tk/blob/main/clshq_tk/modules/attention.py\n",
    "\n",
    "\n",
    "def f_token_level(x,y):\n",
    "  return x @ y\n",
    "\n",
    "token_level = torch.func.vmap(f_token_level, in_dims=0)\n",
    "\n",
    "def f_sequence_level(x,t,w):\n",
    "  return token_level(x, w.repeat(t,1,1))\n",
    "\n",
    "def f_batch_level(x, w):\n",
    "  return token_level(x, w.repeat(x.size(0),1,1))\n",
    "\n",
    "\n",
    "class MultiHeadAttention(nn.Module):\n",
    "  def __init__(self, num_heads, num_tokens, embed_dim,\n",
    "               device = None, dtype = torch.float64, **kwargs):\n",
    "    super().__init__()\n",
    "\n",
    "    self.num_heads = num_heads\n",
    "    self.num_tokens = num_tokens\n",
    "    self.embed_dim = embed_dim\n",
    "    self.dk = kwargs.get('dk', self.embed_dim)\n",
    "    self.dv = kwargs.get('dv', self.embed_dim)\n",
    "    self.device = device\n",
    "    self.dtype = dtype\n",
    "\n",
    "    self.sm = nn.Softmax(1)\n",
    "\n",
    "    self.WQ = [nn.Parameter(torch.randn(self.embed_dim, self.dk, device = self.device, dtype = self.dtype))\n",
    "               for i in range(self.num_heads)]\n",
    "    self.WK = [nn.Parameter(torch.randn(self.embed_dim, self.dk, device = self.device, dtype = self.dtype))\n",
    "               for i in range(self.num_heads)]\n",
    "    self.WV = [nn.Parameter(torch.randn(self.embed_dim, self.dv, device = self.device, dtype = self.dtype))\n",
    "               for i in range(self.num_heads)]\n",
    "\n",
    "    self.WO = nn.Parameter(torch.randn(self.num_heads * self.dv, self.embed_dim, device = self.device, dtype = self.dtype))\n",
    "\n",
    "  def forward(self, x):\n",
    "    b, t, e = x.size()\n",
    "\n",
    "    if t != self.num_tokens:\n",
    "      raise Exception(\"Number of tokens different from num_tokens\")\n",
    "\n",
    "    if e != self.embed_dim:\n",
    "      raise Exception(\"Token dimension different from embed_dim\")\n",
    "\n",
    "    x = x.to(self.dtype)\n",
    "\n",
    "    Z = torch.zeros(b, self.num_heads, self.num_tokens, self.dv, device = self.device, dtype = self.dtype)\n",
    "    Z2 = torch.zeros(b, self.num_tokens, self.embed_dim, device = self.device, dtype = self.dtype)\n",
    "    for h in range(self.num_heads):\n",
    "      Q_seq_fun = lambda x : f_sequence_level(x, self.num_tokens, self.WQ[h])\n",
    "      Q_sequence_level = torch.func.vmap(Q_seq_fun, in_dims=0)\n",
    "      Q = Q_sequence_level(x)\n",
    "\n",
    "      K_seq_fun = lambda x : f_sequence_level(x, self.num_tokens, self.WK[h])\n",
    "      K_sequence_level = torch.func.vmap(K_seq_fun, in_dims=0)\n",
    "      K = K_sequence_level(x)\n",
    "\n",
    "      V_seq_fun = lambda x : f_sequence_level(x, self.num_tokens, self.WV[h])\n",
    "      V_sequence_level = torch.func.vmap(V_seq_fun, in_dims=0)\n",
    "      V = V_sequence_level(x)\n",
    "\n",
    "      scores = Q @ K.view(b,e,t)\n",
    "\n",
    "      A = self.sm(scores / K.size(1) ** 0.5)\n",
    "\n",
    "      Z[:, h, :, :] = A @ V\n",
    "\n",
    "    Z_batch_fun = lambda input : f_batch_level(input, self.WO)\n",
    "    Z_batch_level = torch.func.vmap(Z_batch_fun, in_dims=0)\n",
    "    Zt = Z.reshape(b, self.num_tokens, self.num_heads * self.dv)\n",
    "    Z2 = Z_batch_level(Zt)\n",
    "\n",
    "    return Z2\n",
    "\n",
    "  def to(self, *args, **kwargs):\n",
    "    self = super().to(*args, **kwargs)\n",
    "\n",
    "    if isinstance(args[0], str):\n",
    "      self.device = args[0]\n",
    "    else:\n",
    "      self.dtype = args[0]\n",
    "\n",
    "    for h in range(self.num_heads):\n",
    "      self.WQ[h].to(*args, **kwargs)\n",
    "      self.WK[h].to(*args, **kwargs)\n",
    "      self.WV[h].to(*args, **kwargs)\n",
    "    self.WO.to(*args, **kwargs)\n",
    "    return self"
   ]
  },
  {
   "cell_type": "markdown",
   "metadata": {
    "id": "2FAkFR68UaSy"
   },
   "source": [
    "### Transformer"
   ]
  },
  {
   "cell_type": "code",
   "execution_count": 5,
   "metadata": {
    "id": "Y1E1x1k-UZmL"
   },
   "outputs": [],
   "source": [
    "#My own implementation, already tested\n",
    "#Original source:  https://github.com/petroniocandido/clshq_tk/blob/main/clshq_tk/modules/transformer.py\n",
    "\n",
    "class Transformer(nn.Module):\n",
    "  def __init__(self, num_heads, num_tokens,  embed_dim, feed_forward, activation = nn.GELU(),\n",
    "               device = None, dtype=torch.float64, **kwargs):\n",
    "    super().__init__()\n",
    "\n",
    "    self.num_heads = num_heads\n",
    "    self.num_tokens = num_tokens\n",
    "    self.embed_dim = embed_dim\n",
    "    self.device = device\n",
    "    self.dtype = dtype\n",
    "    self.attention = MultiHeadAttention(num_heads, num_tokens, embed_dim,\n",
    "                            dtype=self.dtype, device=self.device)\n",
    "    self.ln = nn.LayerNorm(embed_dim, dtype=self.dtype, device=self.device)\n",
    "    self.flat = nn.Flatten(1)\n",
    "    self.linear1 = nn.Linear(num_tokens * embed_dim, feed_forward,\n",
    "                            dtype=self.dtype, device=self.device)\n",
    "    self.linear2 = nn.Linear(feed_forward, num_tokens * embed_dim,\n",
    "                            dtype=self.dtype, device=self.device)\n",
    "    self.activation = activation\n",
    "    self.drop = nn.Dropout(.25)\n",
    "    self.unflat = nn.Unflatten(1, [num_tokens, embed_dim])\n",
    "\n",
    "  def forward(self, x):\n",
    "    z = self.attention(x)\n",
    "    z = self.ln(x + z)\n",
    "    z = self.flat(z)\n",
    "    z = self.activation(self.linear1(self.drop(z)))\n",
    "    z = self.activation(self.linear2(self.drop(z)))\n",
    "    z = self.unflat(z)\n",
    "    z = self.ln(x + z)\n",
    "    return z\n",
    "\n",
    "  def to(self, *args, **kwargs):\n",
    "    self = super().to(*args, **kwargs)\n",
    "    if isinstance(args[0], str):\n",
    "      self.device = args[0]\n",
    "    else:\n",
    "      self.dtype = args[0]\n",
    "    self.attention = self.attention.to(*args, **kwargs)\n",
    "    self.linear1 = self.linear1.to(*args, **kwargs)\n",
    "    self.linear2 = self.linear2.to(*args, **kwargs)\n",
    "    self.ln = self.ln.to(*args, **kwargs)\n",
    "    return self\n",
    "\n",
    "  def train(self, *args, **kwargs):\n",
    "    super().train(*args, **kwargs)\n",
    "    self.attention = self.attention.train(*args, **kwargs)\n",
    "    self.linear1 = self.linear1.train(*args, **kwargs)\n",
    "    self.linear2 = self.linear2.train(*args, **kwargs)\n",
    "    return self"
   ]
  },
  {
   "cell_type": "markdown",
   "metadata": {
    "id": "mHAwOo62Vfcx"
   },
   "source": [
    "## Cell Model"
   ]
  },
  {
   "cell_type": "code",
   "execution_count": 6,
   "metadata": {
    "id": "f5ONmpr4Ve0D"
   },
   "outputs": [],
   "source": [
    "class CellModel(nn.Module):\n",
    "  def __init__(self, num_tokens, dim_token,\n",
    "               num_transformers, num_heads, feed_forward, transformer_activation = nn.GELU(),\n",
    "               mlp = 1, mlp_dim = 100, mlp_activation = nn.ReLU(),\n",
    "               device = None, dtype = torch.float64, **kwargs):\n",
    "    super().__init__()\n",
    "    self.num_tokens = num_tokens\n",
    "    self.num_transformers = num_transformers\n",
    "    self.dim_token = dim_token\n",
    "    self.device = device\n",
    "    self.dtype = dtype\n",
    "    self.mlps = mlp\n",
    "\n",
    "    self.transformers = nn.ModuleList([Transformer(num_heads, self.num_tokens, dim_token, feed_forward, transformer_activation,\n",
    "                         dtype=self.dtype, device=self.device)\n",
    "                         for k in range(num_transformers)])\n",
    "\n",
    "    self.flat = nn.Flatten(1)\n",
    "\n",
    "    self.linear = nn.ModuleList()\n",
    "    for l in range(mlp):\n",
    "      in_dim = self.num_tokens * self.dim_token if l == 0 else mlp_dim\n",
    "      out_dim = 1 if l == mlp-1 else mlp_dim\n",
    "      self.linear.append(nn.Linear(in_dim, out_dim, dtype=self.dtype, device=self.device))\n",
    "\n",
    "    self.activation = mlp_activation\n",
    "    self.drop = nn.Dropout(.15)\n",
    "\n",
    "  def forward(self, x):\n",
    "    for transformer in self.transformers:\n",
    "      x = transformer(x)\n",
    "    z = self.flat(x)\n",
    "    for linear in self.linear:\n",
    "      z = self.activation(linear(self.drop(z)))\n",
    "    return z\n",
    "\n",
    "  def to(self, *args, **kwargs):\n",
    "    self = super().to(*args, **kwargs)\n",
    "    if isinstance(args[0], str):\n",
    "      self.device = args[0]\n",
    "    else:\n",
    "      self.dtype = args[0]\n",
    "    for k in range(self.num_transformers):\n",
    "      self.transformers[k] = self.transformers[k].to(*args, **kwargs)\n",
    "    for k in range(self.mlps):\n",
    "      self.linear[k] = self.linear[k].to(*args, **kwargs)\n",
    "    return self\n",
    "\n",
    "  def train(self, *args, **kwargs):\n",
    "    super().train(*args, **kwargs)\n",
    "    for k in range(self.num_transformers):\n",
    "      self.transformers[k] = self.transformers[k].train(*args, **kwargs)\n",
    "    for k in range(self.mlps):\n",
    "      self.linear[k] = self.linear[k].train(*args, **kwargs)\n",
    "    return self"
   ]
  },
  {
   "cell_type": "markdown",
   "metadata": {
    "id": "Ew2hXu4tfoxW"
   },
   "source": [
    "### Conformance checking"
   ]
  },
  {
   "cell_type": "code",
   "execution_count": null,
   "metadata": {
    "colab": {
     "base_uri": "https://localhost:8080/"
    },
    "id": "5nG4HP7AfL4t",
    "outputId": "f6898029-a657-4cbb-fd93-ad093eb52674"
   },
   "outputs": [],
   "source": [
    "cm = CellModel(num_tokens = pems.max_length, dim_token = pems.token_dim,\n",
    "               num_transformers = 2, num_heads = 8, feed_forward = 512, transformer_activation = nn.GELU(),\n",
    "               mlp = 3, mlp_dim = 512, mlp_activation = nn.GELU(), dtype = torch.float64)\n",
    "\n",
    "input = torch.randn(10, pems.max_length, pems.token_dim)\n",
    "output = cm.forward(input)\n",
    "\n",
    "output.shape"
   ]
  },
  {
   "cell_type": "markdown",
   "metadata": {
    "id": "pLR-MIFDVuk_"
   },
   "source": [
    "## Architecture Fine Tunning and Hyperparameter Optimization"
   ]
  },
  {
   "cell_type": "code",
   "execution_count": 7,
   "metadata": {
    "id": "hZevYP7RbqIF"
   },
   "outputs": [],
   "source": [
    "DEFAULT_PATH = base\n",
    "DEVICE = 'cuda' if torch.cuda.is_available() else 'cpu'\n",
    "\n",
    "def checkpoint(modelo, arquivo):\n",
    "  torch.save(modelo.state_dict(), DEFAULT_PATH + arquivo)\n",
    "\n",
    "def checkpoint_all(modelo, otimizador, arquivo):\n",
    "  torch.save({\n",
    "    'optim': otimizador.state_dict(),\n",
    "    'model': modelo.state_dict(),\n",
    "}, DEFAULT_PATH + arquivo)\n",
    "\n",
    "def resume(modelo, arquivo):\n",
    "  modelo.load_state_dict(torch.load(DEFAULT_PATH + arquivo, map_location=torch.device(DEVICE)))\n",
    "\n",
    "def resume_all(modelo, otimizador, arquivo):\n",
    "  checkpoint = torch.load(DEFAULT_PATH + arquivo, map_location=torch.device(DEVICE))\n",
    "  modelo.load_state_dict(checkpoint['model'])\n",
    "  otimizador.load_state_dict(checkpoint['optim'])"
   ]
  },
  {
   "cell_type": "code",
   "execution_count": 8,
   "metadata": {
    "id": "QL3JiFUYV2Ka"
   },
   "outputs": [],
   "source": [
    "from torchmetrics.regression import SymmetricMeanAbsolutePercentageError\n",
    "import copy\n",
    "import time\n",
    "\n",
    "def train_step(DEVICE, train, test, model, loss, mape, optim):\n",
    "\n",
    "  model.train()\n",
    "\n",
    "  errors = []\n",
    "  mapes = []\n",
    "  for X,y in train:\n",
    "\n",
    "    optim.zero_grad()\n",
    "\n",
    "    X = X.to(DEVICE)\n",
    "    y = y.to(DEVICE)\n",
    "\n",
    "    y_pred = model.forward(X)\n",
    "\n",
    "    error = loss(y, y_pred.squeeze())\n",
    "    map = mape(y, y_pred.squeeze())\n",
    "\n",
    "    error.backward()\n",
    "    optim.step()\n",
    "\n",
    "    # Grava as métricas de avaliação\n",
    "    errors.append(error.cpu().item())\n",
    "    mapes.append(map.cpu().item())\n",
    "\n",
    "\n",
    "  ##################\n",
    "  # VALIDATION\n",
    "  ##################\n",
    "\n",
    "  model.eval()\n",
    "\n",
    "  errors_val = []\n",
    "  mapes_val = []\n",
    "  with torch.no_grad():\n",
    "    for X,y in test:\n",
    "\n",
    "      X = X.to(DEVICE)\n",
    "      y = y.to(DEVICE)\n",
    "\n",
    "      y_pred = model(X)\n",
    "\n",
    "      error_val = loss(y, y_pred.squeeze())\n",
    "      map_val = mape(y, y_pred.squeeze())\n",
    "\n",
    "      errors_val.append(error_val.cpu().item())\n",
    "      mapes_val.append(map_val.cpu().item())\n",
    "\n",
    "  return errors, mapes, errors_val, mapes_val\n",
    "\n",
    "\n",
    "def training_loop(DEVICE, dataset, model, display = None, **kwargs):\n",
    "\n",
    "  model = model.to(DEVICE)\n",
    "\n",
    "  checkpoint_file = kwargs.get('checkpoint_file', 'modelo.pt')\n",
    "\n",
    "  if display is None:\n",
    "    from IPython import display\n",
    "\n",
    "  batch_size = kwargs.get('batch', 10)\n",
    "\n",
    "  fig, ax = plt.subplots(1,3, figsize=(15, 5))\n",
    "\n",
    "  epochs = kwargs.get('epochs', 10)\n",
    "  lr = kwargs.get('lr', 0.001)\n",
    "  optimizer = kwargs.get('optim', optim.Adam(model.parameters(), lr=lr, weight_decay=0.0005))\n",
    "\n",
    "  train_ldr = DataLoader(dataset.train(), batch_size=batch_size, shuffle=True)\n",
    "  test_ldr = DataLoader(dataset.test(), batch_size=batch_size, shuffle=True)\n",
    "\n",
    "  loss = nn.MSELoss()\n",
    "  mape = SymmetricMeanAbsolutePercentageError().to(DEVICE)\n",
    "\n",
    "  error_train = []\n",
    "  mape_train = []\n",
    "  error_val = []\n",
    "  mape_val = []\n",
    "\n",
    "  start_time = time.time()\n",
    "\n",
    "  for epoch in range(epochs):\n",
    "\n",
    "    if epoch % 5 == 0:\n",
    "      checkpoint(model, checkpoint_file)\n",
    "\n",
    "    errors_train, map_train, errors_val, map_val = train_step(DEVICE, train_ldr, test_ldr, model, loss, mape, optimizer)\n",
    "\n",
    "    error_train.append(np.mean(errors_train))\n",
    "    mape_train.append(np.mean(map_train))\n",
    "    error_val.append(np.mean(errors_val))\n",
    "    mape_val.append(np.mean(map_val))\n",
    "\n",
    "    display.clear_output(wait=True)\n",
    "    ax[0].clear()\n",
    "    ax[0].plot(error_train, c='blue', label='Train')\n",
    "    ax[0].plot(error_val, c='red', label='Test')\n",
    "    ax[0].legend(loc='upper left')\n",
    "    ax[0].set_title(\"LOSS - All Epochs {} - Time: {} s\".format(epoch, round(time.time() - start_time, 0)))\n",
    "    ax[1].clear()\n",
    "    ax[1].plot(error_train[-20:], c='blue', label='Train')\n",
    "    ax[1].plot(error_val[-20:], c='red', label='Test')\n",
    "    ax[1].set_title(\"LOSS - Last 20 Epochs\".format(epoch))\n",
    "    ax[1].legend(loc='upper left')\n",
    "    ax[2].clear()\n",
    "    ax[2].plot(mape_train[-20:], c='blue', label='Train')\n",
    "    ax[2].plot(mape_val[-20:], c='red', label='Test')\n",
    "    ax[2].set_title(\"MAPE - Last 20 Epochs\".format(epoch))\n",
    "    ax[2].legend(loc='upper left')\n",
    "    plt.tight_layout()\n",
    "    display.display(plt.gcf())\n",
    "\n",
    "  plt.savefig(DEFAULT_PATH + \"training-\"+checkpoint_file+\".pdf\", dpi=150)\n",
    "\n",
    "  checkpoint(model, checkpoint_file)"
   ]
  },
  {
   "cell_type": "markdown",
   "metadata": {
    "id": "uiz3LgtBKyHU"
   },
   "source": [
    "### Experiments"
   ]
  },
  {
   "cell_type": "code",
   "execution_count": null,
   "metadata": {
    "id": "1XIZXBveYewx"
   },
   "outputs": [],
   "source": [
    "ds = pems.get_fewsensors_dataset([311930, 312564, 312807, 312900, 313172, 314697, 315938, 317141, 318135, 318443 ], dtype=torch.float32, behavior='selfsupervised')"
   ]
  },
  {
   "cell_type": "code",
   "execution_count": null,
   "metadata": {
    "colab": {
     "base_uri": "https://localhost:8080/",
     "height": 437
    },
    "id": "crGQaQwgNq99",
    "outputId": "8c8a917a-c589-4a7d-be55-8add2a65a670"
   },
   "outputs": [],
   "source": [
    "ds = pems.get_fewsensors_dataset([311930, 312564, 312807, 312900, 313172, 314697, 315938, 317141, 318135, 318443 ], \n",
    "                                  dtype=torch.float32, behavior='selfsupervised')\n",
    "\n",
    "cm = CellModel(num_tokens = ds.max_length, dim_token = ds.token_dim,\n",
    "               num_transformers = 8, num_heads = 8, feed_forward = 1024, transformer_activation = nn.GELU(),\n",
    "               mlp = 3, mlp_dim = 512, mlp_activation = nn.GELU(),\n",
    "               device = DEVICE, dtype = torch.float32)\n",
    "\n",
    "training_loop(DEVICE, ds, cm,  batch=1024, epochs=200, lr=0.00001)"
   ]
  },
  {
   "cell_type": "code",
   "execution_count": null,
   "metadata": {},
   "outputs": [],
   "source": [
    "DEVICE"
   ]
  },
  {
   "cell_type": "code",
   "execution_count": null,
   "metadata": {
    "id": "_KDUK8ybcWsq"
   },
   "outputs": [
    {
     "data": {
      "image/png": "[encoded data removed]",
      "text/plain": [
       "<Figure size 1500x500 with 3 Axes>"
      ]
     },
     "metadata": {},
     "output_type": "display_data"
    }
   ],
   "source": [
    "ds, sensors = pems.get_breadth_dataset(314697, max_sensors=20, \n",
    "                                       dtype=torch.float32, # device = DEVICE,\n",
    "                                       behavior='selfsupervised')\n",
    "\n",
    "ds = ds.to(DEVICE)\n",
    "\n",
    "cm = CellModel(num_tokens = ds.max_length, dim_token = ds.token_dim,\n",
    "               num_transformers = 4, num_heads = 16, feed_forward = 512, transformer_activation = nn.GELU(),\n",
    "               mlp = 3, mlp_dim = 256, mlp_activation = nn.GELU(),\n",
    "               device = DEVICE, dtype = torch.float32)\n",
    "\n",
    "training_loop(DEVICE, ds, cm,  batch=1024, epochs=100, lr=0.00001)"
   ]
  },
  {
   "cell_type": "markdown",
   "metadata": {},
   "source": [
    "## Graph Cellular Automata"
   ]
  },
  {
   "cell_type": "code",
   "execution_count": null,
   "metadata": {},
   "outputs": [],
   "source": [
    "class FineTunningDataset(Dataset):\n",
    "  pass"
   ]
  },
  {
   "cell_type": "code",
   "execution_count": null,
   "metadata": {
    "id": "s0M7431LLJlw"
   },
   "outputs": [],
   "source": [
    "def get_timestamp(start_ts, increment_unit, increments):\n",
    "  pass\n",
    "\n",
    "def timestamp_generator(start_ts, increment_unit, increment, end_ts = None, count=None):\n",
    "  pass\n",
    "\n",
    "\n",
    "\n",
    "class GraphCellularAutomata(nn.Module):\n",
    "  def __init__(self, **kwargs):\n",
    "    super().__init__()\n",
    "\n",
    "    self.device = device\n",
    "    self.dtype = dtype\n",
    "\n",
    "    self.graph = None\n",
    "\n",
    "    self.num_nodes = None\n",
    "    self.max_length = None\n",
    "    self.token_size = None\n",
    "\n",
    "    self.cell_model = None\n",
    "\n",
    "  def tokenize_state(self, timestamp, states, sensor):\n",
    "    pass\n",
    "\n",
    "  def create_history(timestamps, state_history):\n",
    "    pass\n",
    "\n",
    "  # For fine-tunning\n",
    "  def forward(self, state, **kwargs):\n",
    "    new_state = torch.empty(self.num_nodes, self.max_length, self.token_size, dtype=self.dtype, device=self.device)\n",
    "    for ix, node in enumerate(self.graph.nodes()):\n",
    "      new_state[ix, :, :] = self.cell_model.forward(state[ix, :, :])\n",
    "    return new_state\n",
    "  \n",
    "  def run(self, initial_state, iterations, **kwargs):\n",
    "    current_state = initial_state\n",
    "    state_history = torch.empty(iterations, self.num_nodes, dtype=self.dtype, device=self.device)\n",
    "    timestamps = []\n",
    "    for it, ts in enumerate(timestamp_generator()):\n",
    "      timestamps.append(ts)\n",
    "      tokens = torch.empty(self.num_nodes, self.max_length, self.token_size, dtype=self.dtype, device=self.device)\n",
    "      for ix, node in enumerate(self.graph.nodes()):\n",
    "        tokens[ix, :, :] = self.tokenize_state(ts, current_state, node)\n",
    "\n",
    "      new_state = self.forward(tokens)  \n",
    "      state_history[it,:] = new_state\n",
    "      current_state = new_state\n",
    "\n",
    "    return self.create_history(timestamps, state_history)\n",
    "\n",
    "    "
   ]
  }
 ],
 "metadata": {
  "accelerator": "GPU",
  "colab": {
   "gpuType": "T4",
   "provenance": [],
   "toc_visible": true
  },
  "kernelspec": {
   "display_name": "Python 3",
   "name": "python3"
  },
  "language_info": {
   "codemirror_mode": {
    "name": "ipython",
    "version": 3
   },
   "file_extension": ".py",
   "mimetype": "text/x-python",
   "name": "python",
   "nbconvert_exporter": "python",
   "pygments_lexer": "ipython3",
   "version": "3.10.11"
  }
 },
 "nbformat": 4,
 "nbformat_minor": 0
}
