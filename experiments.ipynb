{
 "cells": [
  {
   "cell_type": "markdown",
   "metadata": {},
   "source": [
    "# Spatio-Temporal Traffic Forecasting with Neural Graph Cellular Automata\n",
    "Petrônio C.  L. Silva  <span itemscope itemtype=\"https://schema.org/Person\"><a itemprop=\"sameAs\" content=\"https://orcid.org/0000-0002-1202-2552\" href=\"https://orcid.org/0000-0002-1202-2552\" target=\"orcid.widget\" rel=\"noopener noreferrer\" style=\"vertical-align:top;\"><img src=\"https://orcid.org/sites/default/files/images/orcid_16x16.png\" style=\"width:1em;margin-right:.5em;\" alt=\"ORCID iD icon\"></a></span>, Omid Orang  <span itemscope itemtype=\"https://schema.org/Person\"><a itemprop=\"sameAs\" content=\"https://orcid.org/0000-0002-4077-3775\" href=\"https://orcid.org/0000-0002-4077-3775\" target=\"orcid.widget\" rel=\"noopener noreferrer\" style=\"vertical-align:top;\"><img src=\"https://orcid.org/sites/default/files/images/orcid_16x16.png\" style=\"width:1em;margin-right:.5em;\" alt=\"ORCID iD icon\"></a></span>, Lucas Astore, Frederico G. Guimarães <span itemscope itemtype=\"https://schema.org/Person\"><a itemprop=\"sameAs\" content=\"https://orcid.org/0000-0001-9238-8839\" href=\"https://orcid.org/0000-0001-9238-8839\" target=\"orcid.widget\" rel=\"noopener noreferrer\" style=\"vertical-align:top;\"><img src=\"https://orcid.org/sites/default/files/images/orcid_16x16.png\" style=\"width:1em;margin-right:.5em;\" alt=\"ORCID iD icon\"></a></span>\n",
    "\n",
    "In case you have any questions, do not hesitate in contact us using the following e-mail: petronio.candido@ifnmg.edu.br\n"
   ]
  },
  {
   "cell_type": "markdown",
   "metadata": {},
   "source": [
    "## Imports"
   ]
  },
  {
   "cell_type": "code",
   "execution_count": 1,
   "metadata": {},
   "outputs": [],
   "source": [
    "from datetime import datetime, timezone, timedelta\n",
    "import numpy as np\n",
    "import pandas as pd\n",
    "import matplotlib.pyplot as plt\n",
    "import networkx as nx\n",
    "\n",
    "from sklearn.manifold import SpectralEmbedding\n",
    "\n",
    "import torch\n",
    "from torch import nn, optim\n",
    "from torch.nn import functional as F\n",
    "from torch.utils.data import Dataset, DataLoader\n",
    "\n",
    "from tensordict import TensorDict\n",
    "\n",
    "from st_nca.common import get_device, resume, checkpoint\n",
    "from st_nca.datasets import PEMS03, SensorDataset\n",
    "from st_nca.cellmodel import CellModel\n",
    "from st_nca.pretrain import training_loop, evaluate\n",
    "from st_nca.gca import GraphCellularAutomata\n",
    "\n",
    "from st_nca.embeddings.temporal import from_datetime_to_pd"
   ]
  },
  {
   "cell_type": "markdown",
   "metadata": {},
   "source": [
    "## Data"
   ]
  },
  {
   "cell_type": "code",
   "execution_count": 2,
   "metadata": {},
   "outputs": [
    {
     "name": "stderr",
     "output_type": "stream",
     "text": [
      "c:\\Users\\petro\\Dropbox\\Projetos\\futurelab\\posdoc\\st_nca\\st_nca\\st_nca\\embeddings\\normalization.py:15: UserWarning: To copy construct from a tensor, it is recommended to use sourceTensor.clone().detach() or sourceTensor.clone().detach().requires_grad_(True), rather than torch.tensor(sourceTensor).\n",
      "  data = torch.tensor(data, dtype=self.dtype, device=self.device)\n"
     ]
    }
   ],
   "source": [
    "DEVICE = get_device()\n",
    "DTYPE = torch.float32\n",
    "\n",
    "DEFAULT_PATH = 'C:\\\\Users\\\\petro\\\\Dropbox\\\\Projetos\\\\futurelab\\\\posdoc\\\\st_nca\\\\st_nca\\\\st_nca\\\\'\n",
    "\n",
    "DATA_PATH = DEFAULT_PATH + 'data\\\\PEMS03\\\\'\n",
    "\n",
    "edges_file = DATA_PATH + 'edges.csv'\n",
    "nodes_file = DATA_PATH + 'nodes.csv'\n",
    "data_file = DATA_PATH + 'data.csv'\n",
    "\n",
    "pems = PEMS03(edges_file=edges_file, nodes_file=nodes_file, data_file=data_file,\n",
    "              dtype = DTYPE, device = DEVICE)"
   ]
  },
  {
   "cell_type": "code",
   "execution_count": null,
   "metadata": {},
   "outputs": [
    {
     "name": "stdout",
     "output_type": "stream",
     "text": [
      "313658\n",
      "10 313658 12\n",
      "tensor([[-1.2489e-01,  4.0435e-01, -3.2837e-03, -5.3190e-04,  2.4754e+00,\n",
      "          6.1224e-02, -9.3969e-01],\n",
      "        [-2.4636e-02,  4.8910e-01, -3.0748e-03, -9.7763e-04,  9.5846e-01,\n",
      "          6.1224e-02, -9.3969e-01],\n",
      "        [-2.4636e-02,  4.8910e-01, -3.0748e-03, -9.7763e-04, -4.6108e-01,\n",
      "          6.1224e-02, -9.3969e-01],\n",
      "        [-1.9859e-01,  2.8764e-01, -3.0748e-03, -9.7763e-04,  2.5937e+00,\n",
      "          6.1224e-02, -9.3969e-01],\n",
      "        [ 0.0000e+00,  0.0000e+00,  0.0000e+00,  0.0000e+00,  0.0000e+00,\n",
      "          0.0000e+00,  0.0000e+00],\n",
      "        [ 0.0000e+00,  0.0000e+00,  0.0000e+00,  0.0000e+00,  0.0000e+00,\n",
      "          0.0000e+00,  0.0000e+00],\n",
      "        [ 0.0000e+00,  0.0000e+00,  0.0000e+00,  0.0000e+00,  0.0000e+00,\n",
      "          0.0000e+00,  0.0000e+00]])\n",
      "tensor([[-1.2489e-01,  4.0435e-01, -3.2837e-03, -5.3190e-04, -8.0900e-01,\n",
      "          1.3693e-01,  2.5882e-01],\n",
      "        [-2.4636e-02,  4.8910e-01, -3.0748e-03, -9.7763e-04, -7.1158e-01,\n",
      "          1.3693e-01,  2.5882e-01],\n",
      "        [-2.4636e-02,  4.8910e-01, -3.0748e-03, -9.7763e-04, -1.1987e+00,\n",
      "          1.3693e-01,  2.5882e-01],\n",
      "        [-1.9859e-01,  2.8764e-01, -3.0748e-03, -9.7763e-04, -6.9767e-01,\n",
      "          1.3693e-01,  2.5882e-01],\n",
      "        [ 0.0000e+00,  0.0000e+00,  0.0000e+00,  0.0000e+00,  0.0000e+00,\n",
      "          0.0000e+00,  0.0000e+00],\n",
      "        [ 0.0000e+00,  0.0000e+00,  0.0000e+00,  0.0000e+00,  0.0000e+00,\n",
      "          0.0000e+00,  0.0000e+00],\n",
      "        [ 0.0000e+00,  0.0000e+00,  0.0000e+00,  0.0000e+00,  0.0000e+00,\n",
      "          0.0000e+00,  0.0000e+00]], device='cuda:0')\n",
      "tensor(506.) tensor(59., device='cuda:0')\n"
     ]
    }
   ],
   "source": [
    "sensor_index = 10\n",
    "sensor = pems.get_sensor(sensor_index)\n",
    "print(sensor)\n",
    "sample_index = 10\n",
    "\n",
    "ds1 = pems.get_sensor_dataset(sensor, dtype=torch.float32, behavior='deterministic')\n",
    "ds2 = pems.get_allsensors_dataset(behavior='deterministic')\n",
    "\n",
    "#pems.to_tensordict()\n"
   ]
  },
  {
   "cell_type": "code",
   "execution_count": 40,
   "metadata": {},
   "outputs": [
    {
     "name": "stdout",
     "output_type": "stream",
     "text": [
      "10 313658 200\n",
      "tensor([-1.2489e-01,  4.0435e-01, -3.2837e-03, -5.3190e-04,  2.4754e+00,\n",
      "         6.1224e-02, -9.3969e-01])\n",
      "tensor([-1.2489e-01,  4.0435e-01, -3.2837e-03, -5.3190e-04,  1.0698e+00,\n",
      "         1.5162e-01, -9.3969e-01], device='cuda:0')\n",
      "tensor(506.) tensor(317., device='cuda:0')\n"
     ]
    }
   ],
   "source": [
    "x1,y1 = ds1[sample_index]\n",
    "x2,y2 = ds2[(ds2.train_split - 1) * sensor_index + 200 ]\n",
    "print(x1[0])\n",
    "print(x2[0])\n",
    "print(y1,y2)"
   ]
  },
  {
   "cell_type": "markdown",
   "metadata": {},
   "source": [
    "## Cell Model Training"
   ]
  },
  {
   "cell_type": "code",
   "execution_count": null,
   "metadata": {},
   "outputs": [
    {
     "data": {
      "image/png": "[encoded data removed]",
      "text/plain": [
       "<Figure size 1500x500 with 3 Axes>"
      ]
     },
     "metadata": {},
     "output_type": "display_data"
    }
   ],
   "source": [
    "NTRANSF = 2\n",
    "NHEADS = 4\n",
    "NTRANSFF = 256\n",
    "TRANSFACT = nn.GELU()\n",
    "MLP = 2\n",
    "MLPD = 256\n",
    "MLPACT = nn.GELU()\n",
    "\n",
    "MODELS_PATH = DEFAULT_PATH + 'weights\\\\PEMS03\\\\'\n",
    "\n",
    "CHECKPOINT_FILE = MODELS_PATH + 'cell_model_{}_{}_{}_{}_{}.pt'.format(NTRANSF,NHEADS,NTRANSFF,MLP,MLPD)\n",
    "\n",
    "#ds = pems.get_fewsensors_dataset([311930, 312564, 312807, 312900, 313172, 314697, 315938, 317141, 318135, 318443 ], dtype=torch.float32, behavior='selfsupervised')\n",
    "#ds = pems.get_sensor_dataset(311930, dtype=torch.float32, behavior='nondeterministic')\n",
    "#ds, sensors = pems.get_breadth_dataset(314697, max_sensors=20, \n",
    "#                                       dtype=DTYPE,\n",
    "#                                       behavior='selfsupervised')\n",
    "\n",
    "pems.to_tensordict()\n",
    "\n",
    "ds = pems.get_allsensors_dataset(behavior='deterministic')\n",
    "\n",
    "ds = ds.to(DEVICE)\n",
    "\n",
    "cm = CellModel(num_tokens = ds.max_length, dim_token = ds.token_dim,\n",
    "               num_transformers = NTRANSF, num_heads = NHEADS, feed_forward = NTRANSFF, \n",
    "               transformer_activation = TRANSFACT,\n",
    "               mlp = MLP, mlp_dim = MLPD, mlp_activation = MLPACT,\n",
    "               use_moe = False, num_experts = 8,\n",
    "               device = DEVICE, dtype = DTYPE)\n",
    "\n",
    "resume(cm, MODELS_PATH + 'PEMS03_cell_model_2_4_256_2_256_20241214.pt')\n",
    "\n",
    "\n",
    "#resume(cm, CHECKPOINT_FILE)\n",
    "\n",
    "training_loop(DEVICE, ds, cm,  batch=2048, epochs=10, lr=0.00001,\n",
    "              checkpoint_file= CHECKPOINT_FILE)"
   ]
  },
  {
   "cell_type": "markdown",
   "metadata": {},
   "source": [
    "## Evaluation"
   ]
  },
  {
   "cell_type": "code",
   "execution_count": 16,
   "metadata": {},
   "outputs": [],
   "source": [
    "from st_nca.common import MAPE, SMAPE\n",
    "def evaluate(model, in_sample, out_sample, num_samples = None):\n",
    "  metrics = {\"MAPE\": MAPE, \"SMAPE\": SMAPE}\n",
    "\n",
    "  model.eval()\n",
    "\n",
    "  results = {}\n",
    "\n",
    "  results['train'] = experiment_on_dataset(model, in_sample, num_samples, metrics)\n",
    "  results['test'] = experiment_on_dataset(model, out_sample, num_samples, metrics)\n",
    "\n",
    "  return results\n",
    "\n",
    "def experiment_on_dataset(model, sample, num_samples, metrics):\n",
    "    total = len(sample)\n",
    "    samples = num_samples if not num_samples is None else total\n",
    "    indexes = torch.randperm(total, device=model.device)[:samples]\n",
    "\n",
    "    X_batch = torch.zeros(samples, model.num_tokens, model.dim_token, \n",
    "                      device=model.device, dtype=model.dtype)\n",
    "    y_batch = torch.zeros(samples, device=model.device, dtype=model.dtype)\n",
    "  \n",
    "    for ct,ix in enumerate(indexes):\n",
    "      X,y = sample[ix]\n",
    "      X_batch[ct,:] = X\n",
    "      y_batch[ct] = y\n",
    "\n",
    "    #print(X_batch, y_batch)\n",
    "\n",
    "    out = model(X_batch)\n",
    "\n",
    "    #print(out)\n",
    "\n",
    "    res = {}\n",
    "    for key, metric in metrics.items():\n",
    "      res[key] = metric(y_batch, out).detach().cpu()\n",
    "\n",
    "    return res"
   ]
  },
  {
   "cell_type": "code",
   "execution_count": 19,
   "metadata": {},
   "outputs": [
    {
     "data": {
      "text/plain": [
       "{'train': {'MAPE': tensor(2.4232e+08), 'SMAPE': tensor(0.8460)},\n",
       " 'test': {'MAPE': tensor(2.0427e+08), 'SMAPE': tensor(0.8683)}}"
      ]
     },
     "execution_count": 19,
     "metadata": {},
     "output_type": "execute_result"
    }
   ],
   "source": [
    "NTRANSF = 2\n",
    "NHEADS = 4\n",
    "NTRANSFF = 256\n",
    "TRANSFACT = nn.GELU()\n",
    "MLP = 2\n",
    "MLPD = 256\n",
    "MLPACT = nn.GELU()\n",
    "\n",
    "MODELS_PATH = DEFAULT_PATH + 'weights\\\\PEMS03\\\\'\n",
    "\n",
    "CHECKPOINT_FILE = MODELS_PATH + 'cell_model_{}_{}_{}_{}_{}.pt'.format(NTRANSF,NHEADS,NTRANSFF,MLP,MLPD)\n",
    "\n",
    "pems.to_tensordict()\n",
    "\n",
    "ds = pems.get_allsensors_dataset(behavior='selfsupervised')\n",
    "\n",
    "ds = ds.to(DEVICE)\n",
    "\n",
    "cm = CellModel(num_tokens = ds.max_length, dim_token = ds.token_dim,\n",
    "               num_transformers = NTRANSF, num_heads = NHEADS, feed_forward = NTRANSFF, \n",
    "               transformer_activation = TRANSFACT,\n",
    "               mlp = MLP, mlp_dim = MLPD, mlp_activation = MLPACT,\n",
    "               use_moe = False, num_experts = 8,\n",
    "               device = DEVICE, dtype = DTYPE)\n",
    "\n",
    "resume(cm, CHECKPOINT_FILE)\n",
    "\n",
    "evaluate(model=cm, in_sample=ds.train(), out_sample=ds.test(), num_samples=15000)"
   ]
  },
  {
   "cell_type": "markdown",
   "metadata": {},
   "source": [
    "### Experiment Agenda\n",
    "\n",
    "Federated Graph Neural Cellular Automata - FedGNCA\n",
    "\n",
    "#### Cross Validation\n",
    "\n",
    "- 60% Training\n",
    "- 20% Validation\n",
    "- 20% Test\n",
    "\n",
    "#### H = Forecasting Horizons\n",
    "\n",
    "- ~H = 1 (5 minutes ahead)~\n",
    "- H = 12 (1 hour ahead)\n",
    "- ~H = 24 (2 hours ahead)~\n",
    "- ~H = 48 (4 hours ahead)~\n",
    "- ~H = 96 (8 hours ahead)~\n",
    "\n",
    "#### Metrics\n",
    "- Loss Function: MSE\n",
    "- Comparison Metrics\n",
    "  - MAPE \n",
    "  - RMSE\n",
    "  - MAE"
   ]
  },
  {
   "cell_type": "code",
   "execution_count": null,
   "metadata": {},
   "outputs": [],
   "source": [
    "pems.num_samples"
   ]
  },
  {
   "cell_type": "markdown",
   "metadata": {},
   "source": [
    "## Graph CA"
   ]
  },
  {
   "cell_type": "code",
   "execution_count": null,
   "metadata": {},
   "outputs": [],
   "source": [
    "MODELS_PATH = DEFAULT_PATH + 'weights\\\\PEMS03\\\\'\n",
    "\n",
    "DTYPE = torch.float32\n",
    "NTRANSF = 2\n",
    "NHEADS = 4\n",
    "NTRANSFF = 256\n",
    "TRANSFACT = nn.GELU()\n",
    "MLP = 2\n",
    "MLPD = 256\n",
    "MLPACT = nn.GELU()\n",
    "\n",
    "ds, sensors = pems.get_breadth_dataset(314697, max_sensors=20, \n",
    "                                       dtype=torch.float64,\n",
    "                                       behavior='deterministic')\n",
    "\n",
    "cm = CellModel(num_tokens = ds.max_length, dim_token = ds.token_dim,\n",
    "               num_transformers = NTRANSF, num_heads = NHEADS, feed_forward = NTRANSFF, \n",
    "               transformer_activation = TRANSFACT,\n",
    "               mlp = MLP, mlp_dim = MLPD, mlp_activation = MLPACT,\n",
    "               device = DEVICE, dtype = DTYPE)\n",
    "\n",
    "resume(cm, MODELS_PATH + 'cell_model_{}_{}_{}_{}_{}.pt'.format(NTRANSF,NHEADS,NTRANSFF,MLP,MLPD))\n",
    "\n",
    "subgraph = pems.G.subgraph(sensors)\n",
    "\n",
    "gca = GraphCellularAutomata(device=cm.device, dtype=cm.dtype, graph = subgraph,\n",
    "                            max_length = pems.max_length, token_size=pems.token_dim,\n",
    "                            tokenizer=pems.tokenizer, cell_model = cm)\n",
    "\n",
    "initial_date = datetime(year=2018, month=9, day=1, hour=23, minute=0)\n",
    "\n",
    "df = pems.data[(pems.data['timestamp'] == from_datetime_to_np(initial_date))]\n",
    "\n",
    "initial_state = {}\n",
    "for sensor in subgraph.nodes():\n",
    "    initial_state[str(sensor)] = df[str(sensor)].values[0]\n",
    "\n",
    "print(initial_state)\n",
    "\n",
    "gca.run(initial_date = initial_date, initial_stat = initial_state, \n",
    "        iterations = 10, increment_type='minute', increment=5,\n",
    "        return_type = 'tensordict')\n",
    "\n"
   ]
  },
  {
   "cell_type": "markdown",
   "metadata": {},
   "source": [
    "## Fine Tunning"
   ]
  },
  {
   "cell_type": "code",
   "execution_count": null,
   "metadata": {},
   "outputs": [],
   "source": [
    "from st_nca.finetune import FineTunningDataset, finetune_loop\n",
    "\n",
    "MODELS_PATH = DEFAULT_PATH + 'weights\\\\PEMS03\\\\'\n",
    "\n",
    "DTYPE = torch.float32\n",
    "NTRANSF = 2\n",
    "NHEADS = 4\n",
    "NTRANSFF = 256\n",
    "TRANSFACT = nn.GELU()\n",
    "MLP = 2\n",
    "MLPD = 256\n",
    "MLPACT = nn.GELU()\n",
    "\n",
    "ds, sensors = pems.get_breadth_dataset(314697, max_sensors=20, \n",
    "                                       dtype=DTYPE,\n",
    "                                       behavior='deterministic')\n",
    "\n",
    "cm = CellModel(num_tokens = ds.max_length, dim_token = ds.token_dim,\n",
    "               num_transformers = NTRANSF, num_heads = NHEADS, feed_forward = NTRANSFF, \n",
    "               transformer_activation = TRANSFACT,\n",
    "               mlp = MLP, mlp_dim = MLPD, mlp_activation = MLPACT,\n",
    "               device = DEVICE, dtype = DTYPE)\n",
    "\n",
    "resume(cm, MODELS_PATH + 'cell_model_{}_{}_{}_{}_{}.pt'.format(NTRANSF,NHEADS,NTRANSFF,MLP,MLPD))\n",
    "\n",
    "subgraph = pems.G.subgraph(sensors)\n",
    "\n",
    "gca = GraphCellularAutomata(device=DEVICE, dtype=DTYPE, graph = subgraph,\n",
    "                            max_length = pems.max_length, token_size=pems.token_dim,\n",
    "                            tokenizer=pems.tokenizer, cell_model = cm)\n",
    "\n",
    "finetune_ds = FineTunningDataset(pems, sensors, )\n",
    "\n",
    "finetune_loop(DEVICE, finetune_ds, gca, \n",
    "              iterations = 10, increment_type='minute', increment=5,\n",
    "              epochs = 10, batch = 50, lr = 0.0001,\n",
    "              checkpoint_file =  MODELS_PATH + 'gca_{}_{}_{}_{}_{}.pt'.format(NTRANSF,NHEADS,NTRANSFF,MLP,MLPD))"
   ]
  },
  {
   "cell_type": "code",
   "execution_count": null,
   "metadata": {},
   "outputs": [],
   "source": [
    "pems.num_samples"
   ]
  },
  {
   "cell_type": "code",
   "execution_count": null,
   "metadata": {},
   "outputs": [],
   "source": []
  }
 ],
 "metadata": {
  "kernelspec": {
   "display_name": "Python 3",
   "language": "python",
   "name": "python3"
  },
  "language_info": {
   "codemirror_mode": {
    "name": "ipython",
    "version": 3
   },
   "file_extension": ".py",
   "mimetype": "text/x-python",
   "name": "python",
   "nbconvert_exporter": "python",
   "pygments_lexer": "ipython3",
   "version": "3.10.11"
  }
 },
 "nbformat": 4,
 "nbformat_minor": 2
}
