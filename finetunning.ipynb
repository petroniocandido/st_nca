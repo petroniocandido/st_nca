{
 "cells": [
  {
   "cell_type": "markdown",
   "metadata": {},
   "source": [
    "# Spatio-Temporal Traffic Forecasting with Neural Graph Cellular Automata\n",
    "Petrônio C.  L. Silva  <span itemscope itemtype=\"https://schema.org/Person\"><a itemprop=\"sameAs\" content=\"https://orcid.org/0000-0002-1202-2552\" href=\"https://orcid.org/0000-0002-1202-2552\" target=\"orcid.widget\" rel=\"noopener noreferrer\" style=\"vertical-align:top;\"><img src=\"https://orcid.org/sites/default/files/images/orcid_16x16.png\" style=\"width:1em;margin-right:.5em;\" alt=\"ORCID iD icon\"></a></span>, Omid Orang  <span itemscope itemtype=\"https://schema.org/Person\"><a itemprop=\"sameAs\" content=\"https://orcid.org/0000-0002-4077-3775\" href=\"https://orcid.org/0000-0002-4077-3775\" target=\"orcid.widget\" rel=\"noopener noreferrer\" style=\"vertical-align:top;\"><img src=\"https://orcid.org/sites/default/files/images/orcid_16x16.png\" style=\"width:1em;margin-right:.5em;\" alt=\"ORCID iD icon\"></a></span>, Lucas Astore, Frederico G. Guimarães <span itemscope itemtype=\"https://schema.org/Person\"><a itemprop=\"sameAs\" content=\"https://orcid.org/0000-0001-9238-8839\" href=\"https://orcid.org/0000-0001-9238-8839\" target=\"orcid.widget\" rel=\"noopener noreferrer\" style=\"vertical-align:top;\"><img src=\"https://orcid.org/sites/default/files/images/orcid_16x16.png\" style=\"width:1em;margin-right:.5em;\" alt=\"ORCID iD icon\"></a></span>\n",
    "\n",
    "In case you have any questions, do not hesitate in contact us using the following e-mail: petronio.candido@ifnmg.edu.br\n"
   ]
  },
  {
   "cell_type": "markdown",
   "metadata": {},
   "source": [
    "## Imports"
   ]
  },
  {
   "cell_type": "code",
   "execution_count": 1,
   "metadata": {},
   "outputs": [],
   "source": [
    "import torch\n",
    "from torch import nn\n",
    "\n",
    "from st_nca.common import resume, get_device, checkpoint_all\n",
    "from st_nca.datasets.PEMS import PEMS03, get_config as pems_get_config\n",
    "from st_nca.cellmodel import CellModel, load_config, get_config\n",
    "from st_nca.gca import GraphCellularAutomata, timestamp_generator\n",
    "from st_nca.finetune import FineTunningDataset, finetune_loop\n",
    "from st_nca.evaluate import evaluate, diff_states"
   ]
  },
  {
   "cell_type": "markdown",
   "metadata": {},
   "source": [
    "## Data"
   ]
  },
  {
   "cell_type": "code",
   "execution_count": null,
   "metadata": {},
   "outputs": [],
   "source": [
    "def save_as(from_file, to_file, pems, NTRANSF, NHEADS, NTRANSFF, TRANSFACT, MLP, MLPD, MLPACT, \n",
    "           DEVICE = get_device(), DTYPE = torch.float32):\n",
    "    model = CellModel(num_tokens = pems.max_length, dim_token= pems.token_dim,\n",
    "               num_transformers = NTRANSF, num_heads = NHEADS, transformer_feed_forward= NTRANSFF, \n",
    "               transformer_activation = TRANSFACT,\n",
    "               feed_forward = MLP, feed_forward_dim = MLPD, feed_forward_activation = MLPACT,\n",
    "               device = DEVICE, dtype = DTYPE)\n",
    "    model.load_state_dict(torch.load(from_file, \n",
    "                                 weights_only=True,\n",
    "                                 map_location=torch.device(get_device())), strict=False)\n",
    "    torch.save({\n",
    "        'config': get_config(model, **pems_get_config(pems)),\n",
    "        \"weights\": model.state_dict() }, \n",
    "        to_file)\n",
    "    \n",
    "    \n",
    "    \n",
    "\n",
    "def setup(file, pems):\n",
    "    saved_config = torch.load(file)\n",
    "    tmp = load_config(saved_config['config'])\n",
    "    tmp.load_state_dict(saved_config['weights'], strict=False)\n",
    "    pems.steps_ahead = saved_config['steps_ahead']\n",
    "    return tmp, pems"
   ]
  },
  {
   "cell_type": "code",
   "execution_count": 2,
   "metadata": {},
   "outputs": [],
   "source": [
    "DEVICE = get_device()\n",
    "DTYPE = torch.float32\n",
    "#DEFAULT_PATH = 'C:\\\\Users\\\\petro\\\\Dropbox\\\\Projetos\\\\futurelab\\\\posdoc\\\\st_nca\\\\st_nca\\\\st_nca\\\\'\n",
    "DEFAULT_PATH = 'D:\\\\Dropbox\\\\Projetos\\\\futurelab\\\\posdoc\\\\st_nca\\\\st_nca\\\\st_nca\\\\'\n",
    "DATA_PATH = DEFAULT_PATH + 'data\\\\PEMS03\\\\'\n",
    "MODELS_PATH = DEFAULT_PATH + 'weights\\\\PEMS03\\\\'\n",
    "\n",
    "NTRANSF = 3\n",
    "NHEADS = 16\n",
    "NTRANSFF = 1024\n",
    "TRANSFACT = nn.GELU()\n",
    "MLP = 3\n",
    "MLPD = 1024\n",
    "MLPACT = nn.GELU()\n",
    "STEPS_AHEAD = 12\n",
    "ITERATIONS = 1\n",
    "\n",
    "pems = PEMS03(edges_file = DATA_PATH + 'edges.csv', nodes_file = DATA_PATH + 'nodes.csv', data_file = DATA_PATH + 'data.csv',\n",
    "    device = DEVICE, dtype = DTYPE, steps_ahead = STEPS_AHEAD)\n"
   ]
  },
  {
   "cell_type": "code",
   "execution_count": 5,
   "metadata": {},
   "outputs": [
    {
     "data": {
      "text/plain": [
       "{'num_heads': 16,\n",
       " 'normalization': torch.nn.modules.normalization.LayerNorm,\n",
       " 'pre_norm': False,\n",
       " 'transformer_feed_forward': 1024,\n",
       " 'transformer_activation': GELU(approximate='none'),\n",
       " 'num_tokens': 7,\n",
       " 'dim_token': 7,\n",
       " 'num_transformers': 3,\n",
       " 'feed_forward': 3,\n",
       " 'feed_forward_dim': 1024,\n",
       " 'feed_forward_activation': GELU(approximate='none'),\n",
       " 'device': 'cpu',\n",
       " 'dtype': torch.float32,\n",
       " 'steps_ahead': 12}"
      ]
     },
     "execution_count": 5,
     "metadata": {},
     "output_type": "execute_result"
    }
   ],
   "source": [
    "model = CellModel(num_tokens = pems.max_length, dim_token= pems.token_dim,\n",
    "               num_transformers = NTRANSF, num_heads = NHEADS, transformer_feed_forward= NTRANSFF, \n",
    "               transformer_activation = TRANSFACT,\n",
    "               feed_forward = MLP, feed_forward_dim = MLPD, feed_forward_activation = MLPACT,\n",
    "               device = DEVICE, dtype = DTYPE)\n",
    "\n",
    "file = MODELS_PATH + 'h12_cell_model_{}_{}_{}_{}_{}.h5'.format(NTRANSF,NHEADS,NTRANSFF,MLP,MLPD)\n",
    "\n",
    "#resume(cm, )\n",
    "\n",
    "#resume(model, MODELS_PATH + 'UlGfLpFGDbWjtwcWVn59C_weights.h5')\n",
    "\n",
    "model.load_state_dict(torch.load(file, \n",
    "                                 weights_only=True,\n",
    "                                 map_location=torch.device(get_device())), strict=False)\n",
    "\n",
    "get_config(model, **pems_get_config(pems))"
   ]
  },
  {
   "cell_type": "code",
   "execution_count": 6,
   "metadata": {},
   "outputs": [],
   "source": [
    "torch.save({\n",
    "    'config': get_config(model, **pems_get_config(pems)),\n",
    "    \"weights\": model.state_dict()\n",
    "}, file + \"NEW\")"
   ]
  },
  {
   "cell_type": "code",
   "execution_count": 7,
   "metadata": {},
   "outputs": [
    {
     "name": "stderr",
     "output_type": "stream",
     "text": [
      "C:\\Users\\petronio\\AppData\\Local\\Temp\\ipykernel_19376\\135001169.py:1: FutureWarning: You are using `torch.load` with `weights_only=False` (the current default value), which uses the default pickle module implicitly. It is possible to construct malicious pickle data which will execute arbitrary code during unpickling (See https://github.com/pytorch/pytorch/blob/main/SECURITY.md#untrusted-models for more details). In a future release, the default value for `weights_only` will be flipped to `True`. This limits the functions that could be executed during unpickling. Arbitrary objects will no longer be allowed to be loaded via this mode unless they are explicitly allowlisted by the user via `torch.serialization.add_safe_globals`. We recommend you start setting `weights_only=True` for any use case where you don't have full control of the loaded file. Please open an issue on GitHub for any issues related to this experimental feature.\n",
      "  saved_config = torch.load(file + \"NEW\")\n"
     ]
    },
    {
     "data": {
      "text/plain": [
       "<All keys matched successfully>"
      ]
     },
     "execution_count": 7,
     "metadata": {},
     "output_type": "execute_result"
    }
   ],
   "source": [
    "saved_config = torch.load(file + \"NEW\")\n",
    "tmp = load_config(saved_config['config'])\n",
    "tmp.load_state_dict(saved_config['weights'], strict=False)"
   ]
  },
  {
   "cell_type": "code",
   "execution_count": 12,
   "metadata": {},
   "outputs": [],
   "source": [
    "from st_nca.finetune import FineTunningDataset, finetune_loop\n",
    "\n",
    "#ds = pems.get_allsensors_dataset(behavior='deterministic')\n",
    "\n",
    "model = CellModel(num_tokens = pems.max_length, dim_token = pems.token_dim,\n",
    "               num_transformers = NTRANSF, num_heads = NHEADS, feed_forward = NTRANSFF, \n",
    "               transformer_activation = TRANSFACT,\n",
    "               mlp = MLP, mlp_dim = MLPD, mlp_activation = MLPACT,\n",
    "               device = DEVICE, dtype = DTYPE)\n",
    "\n",
    "file = MODELS_PATH + 'h12_cell_model_{}_{}_{}_{}_{}.h5'.format(NTRANSF,NHEADS,NTRANSFF,MLP,MLPD)\n",
    "\n",
    "#resume(cm, )\n",
    "\n",
    "#resume(model, MODELS_PATH + 'UlGfLpFGDbWjtwcWVn59C_weights.h5')\n",
    "\n",
    "model.load_state_dict(torch.load(file, \n",
    "                                 weights_only=True,\n",
    "                                 map_location=torch.device(get_device())), strict=False)\n",
    "\n",
    "\n",
    "gca = GraphCellularAutomata(device=DEVICE, dtype=DTYPE, graph = pems.G,\n",
    "                            max_length = pems.max_length, token_size=pems.token_dim,\n",
    "                            tokenizer=pems.tokenizer, cell_model = model)\n",
    "\n",
    "#finetune_ds = FineTunningDataset(pems, increment_type='minutes', increment=5, \n",
    "finetune_ds = FineTunningDataset(pems, increment_type='minutes', increment=5, \n",
    "                                 steps_ahead=12, step=250)\n",
    "\n",
    "#X,_ = finetune_ds[0]\n",
    "#y,_ = finetune_ds[1]\n",
    "\n",
    "#p = gca.run_dict(X, ITERATIONS,increment_type='minute', increment=5)\n",
    "\n",
    "#diff_states(y, p[0])"
   ]
  },
  {
   "cell_type": "markdown",
   "metadata": {},
   "source": [
    "## Fine Tunning"
   ]
  },
  {
   "cell_type": "code",
   "execution_count": null,
   "metadata": {},
   "outputs": [],
   "source": [
    "finetune_loop(DEVICE, finetune_ds, gca, \n",
    "#              iterations = ITERATIONS, increment_type='minutes', increment=5,\n",
    "              iterations = 1, increment_type='hours', increment=1,\n",
    "              epochs = 150, batch = 1, lr = 0.00001,\n",
    "              checkpoint_file =  MODELS_PATH + 'h12_gca_{}_{}_{}_{}_{}.pt'.format(NTRANSF,NHEADS,NTRANSFF,MLP,MLPD))"
   ]
  },
  {
   "cell_type": "markdown",
   "metadata": {},
   "source": [
    "## Evaluate"
   ]
  },
  {
   "cell_type": "code",
   "execution_count": null,
   "metadata": {},
   "outputs": [],
   "source": [
    "gca_file = MODELS_PATH + 'gca_{}_{}_{}_{}_{}.ptBEST'.format(NTRANSF,NHEADS,NTRANSFF,MLP,MLPD)\n",
    "\n",
    "cell_model = CellModel(num_tokens = pems.max_length, dim_token = pems.token_dim,\n",
    "               num_transformers = NTRANSF, num_heads = NHEADS, feed_forward = NTRANSFF, \n",
    "               transformer_activation = TRANSFACT,\n",
    "               mlp = MLP, mlp_dim = MLPD, mlp_activation = MLPACT,\n",
    "               device = DEVICE, dtype = DTYPE)\n",
    "\n",
    "gca = GraphCellularAutomata(device=DEVICE, dtype=DTYPE, graph = pems.G,\n",
    "                            max_length = pems.max_length, token_size=pems.token_dim,\n",
    "                            tokenizer=pems.tokenizer, cell_model = cell_model)\n",
    "\n",
    "\n",
    "gca.load_state_dict(torch.load(gca_file, \n",
    "                                 weights_only=True,\n",
    "                                 map_location=torch.device(get_device())), strict=False)\n",
    "\n",
    "ITERATIONS = 12\n",
    "\n",
    "dataset = FineTunningDataset(pems, increment_type='minutes', increment=5, \n",
    "                                 steps_ahead=ITERATIONS, step=10, device = DEVICE)\n",
    "\n",
    "\n",
    "df = evaluate(dataset.test(), gca, ITERATIONS, increment_type='minutes', increment=5)\n",
    "df"
   ]
  },
  {
   "cell_type": "code",
   "execution_count": null,
   "metadata": {},
   "outputs": [],
   "source": [
    "DEVICE"
   ]
  },
  {
   "cell_type": "code",
   "execution_count": null,
   "metadata": {},
   "outputs": [],
   "source": []
  }
 ],
 "metadata": {
  "kernelspec": {
   "display_name": "Python 3",
   "language": "python",
   "name": "python3"
  },
  "language_info": {
   "codemirror_mode": {
    "name": "ipython",
    "version": 3
   },
   "file_extension": ".py",
   "mimetype": "text/x-python",
   "name": "python",
   "nbconvert_exporter": "python",
   "pygments_lexer": "ipython3",
   "version": "3.10.6"
  }
 },
 "nbformat": 4,
 "nbformat_minor": 2
}
